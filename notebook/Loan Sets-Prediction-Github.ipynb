{
 "cells": [
  {
   "cell_type": "code",
   "execution_count": 2,
   "metadata": {},
   "outputs": [
    {
     "name": "stderr",
     "output_type": "stream",
     "text": [
      "\n",
      "Bad key \"text.kerning_factor\" on line 4 in\n",
      "/Users/ganeshnarayanan/opt/anaconda3/lib/python3.7/site-packages/matplotlib/mpl-data/stylelib/_classic_test_patch.mplstyle.\n",
      "You probably need to get an updated matplotlibrc file from\n",
      "https://github.com/matplotlib/matplotlib/blob/v3.1.3/matplotlibrc.template\n",
      "or from the matplotlib source distribution\n",
      "/Users/ganeshnarayanan/opt/anaconda3/lib/python3.7/site-packages/statsmodels/tools/_testing.py:19: FutureWarning: pandas.util.testing is deprecated. Use the functions in the public API at pandas.testing instead.\n",
      "  import pandas.util.testing as tm\n"
     ]
    }
   ],
   "source": [
    "import pandas as pd\n",
    "import numpy as np\n",
    "import matplotlib.pyplot as plt\n",
    "import seaborn as sns\n",
    "%matplotlib inline\n",
    "\n",
    "#import warnings\n",
    "#warnings.filterwarnings('ignore')"
   ]
  },
  {
   "cell_type": "code",
   "execution_count": 3,
   "metadata": {},
   "outputs": [],
   "source": [
    "loan_df = pd.read_csv('Loanset.csv',index_col=[0])"
   ]
  },
  {
   "cell_type": "code",
   "execution_count": 4,
   "metadata": {},
   "outputs": [
    {
     "data": {
      "text/plain": [
       "(400, 10)"
      ]
     },
     "execution_count": 4,
     "metadata": {},
     "output_type": "execute_result"
    }
   ],
   "source": [
    "loan_df.shape"
   ]
  },
  {
   "cell_type": "code",
   "execution_count": 5,
   "metadata": {},
   "outputs": [
    {
     "name": "stdout",
     "output_type": "stream",
     "text": [
      "<class 'pandas.core.frame.DataFrame'>\n",
      "Int64Index: 400 entries, 0 to 345\n",
      "Data columns (total 10 columns):\n",
      " #   Column          Non-Null Count  Dtype \n",
      "---  ------          --------------  ----- \n",
      " 0   Unnamed: 0.1    400 non-null    int64 \n",
      " 1   Unnamed: 0.1.1  400 non-null    int64 \n",
      " 2   loan_status     400 non-null    object\n",
      " 3   Principal       400 non-null    int64 \n",
      " 4   terms           400 non-null    int64 \n",
      " 5   effective_date  400 non-null    object\n",
      " 6   due_date        400 non-null    object\n",
      " 7   age             400 non-null    int64 \n",
      " 8   education       400 non-null    object\n",
      " 9   Gender          400 non-null    object\n",
      "dtypes: int64(5), object(5)\n",
      "memory usage: 34.4+ KB\n"
     ]
    }
   ],
   "source": [
    "loan_df.info()"
   ]
  },
  {
   "cell_type": "code",
   "execution_count": 6,
   "metadata": {},
   "outputs": [],
   "source": [
    "loan_df = loan_df.drop(columns=['Unnamed: 0.1','Unnamed: 0.1.1'], axis=1)"
   ]
  },
  {
   "cell_type": "code",
   "execution_count": 7,
   "metadata": {},
   "outputs": [
    {
     "data": {
      "text/html": [
       "<div>\n",
       "<style scoped>\n",
       "    .dataframe tbody tr th:only-of-type {\n",
       "        vertical-align: middle;\n",
       "    }\n",
       "\n",
       "    .dataframe tbody tr th {\n",
       "        vertical-align: top;\n",
       "    }\n",
       "\n",
       "    .dataframe thead th {\n",
       "        text-align: right;\n",
       "    }\n",
       "</style>\n",
       "<table border=\"1\" class=\"dataframe\">\n",
       "  <thead>\n",
       "    <tr style=\"text-align: right;\">\n",
       "      <th></th>\n",
       "      <th>loan_status</th>\n",
       "      <th>Principal</th>\n",
       "      <th>terms</th>\n",
       "      <th>effective_date</th>\n",
       "      <th>due_date</th>\n",
       "      <th>age</th>\n",
       "      <th>education</th>\n",
       "      <th>Gender</th>\n",
       "    </tr>\n",
       "  </thead>\n",
       "  <tbody>\n",
       "    <tr>\n",
       "      <th>0</th>\n",
       "      <td>PAIDOFF</td>\n",
       "      <td>1000</td>\n",
       "      <td>30</td>\n",
       "      <td>9/8/2016</td>\n",
       "      <td>10/7/2016</td>\n",
       "      <td>50</td>\n",
       "      <td>Bechalor</td>\n",
       "      <td>female</td>\n",
       "    </tr>\n",
       "    <tr>\n",
       "      <th>1</th>\n",
       "      <td>PAIDOFF</td>\n",
       "      <td>300</td>\n",
       "      <td>7</td>\n",
       "      <td>9/9/2016</td>\n",
       "      <td>9/15/2016</td>\n",
       "      <td>35</td>\n",
       "      <td>Master or Above</td>\n",
       "      <td>male</td>\n",
       "    </tr>\n",
       "    <tr>\n",
       "      <th>2</th>\n",
       "      <td>PAIDOFF</td>\n",
       "      <td>1000</td>\n",
       "      <td>30</td>\n",
       "      <td>9/10/2016</td>\n",
       "      <td>10/9/2016</td>\n",
       "      <td>43</td>\n",
       "      <td>High School or Below</td>\n",
       "      <td>female</td>\n",
       "    </tr>\n",
       "    <tr>\n",
       "      <th>3</th>\n",
       "      <td>PAIDOFF</td>\n",
       "      <td>1000</td>\n",
       "      <td>30</td>\n",
       "      <td>9/10/2016</td>\n",
       "      <td>10/9/2016</td>\n",
       "      <td>26</td>\n",
       "      <td>college</td>\n",
       "      <td>male</td>\n",
       "    </tr>\n",
       "    <tr>\n",
       "      <th>4</th>\n",
       "      <td>PAIDOFF</td>\n",
       "      <td>800</td>\n",
       "      <td>15</td>\n",
       "      <td>9/11/2016</td>\n",
       "      <td>9/25/2016</td>\n",
       "      <td>29</td>\n",
       "      <td>Bechalor</td>\n",
       "      <td>male</td>\n",
       "    </tr>\n",
       "  </tbody>\n",
       "</table>\n",
       "</div>"
      ],
      "text/plain": [
       "  loan_status  Principal  terms effective_date   due_date  age  \\\n",
       "0     PAIDOFF       1000     30       9/8/2016  10/7/2016   50   \n",
       "1     PAIDOFF        300      7       9/9/2016  9/15/2016   35   \n",
       "2     PAIDOFF       1000     30      9/10/2016  10/9/2016   43   \n",
       "3     PAIDOFF       1000     30      9/10/2016  10/9/2016   26   \n",
       "4     PAIDOFF        800     15      9/11/2016  9/25/2016   29   \n",
       "\n",
       "              education  Gender  \n",
       "0              Bechalor  female  \n",
       "1       Master or Above    male  \n",
       "2  High School or Below  female  \n",
       "3               college    male  \n",
       "4              Bechalor    male  "
      ]
     },
     "execution_count": 7,
     "metadata": {},
     "output_type": "execute_result"
    }
   ],
   "source": [
    "loan_df.head()"
   ]
  },
  {
   "cell_type": "code",
   "execution_count": 8,
   "metadata": {},
   "outputs": [
    {
     "data": {
      "text/plain": [
       "loan_status  Gender\n",
       "COLLECTION   male       90\n",
       "             female     10\n",
       "PAIDOFF      male      247\n",
       "             female     53\n",
       "Name: Gender, dtype: int64"
      ]
     },
     "execution_count": 8,
     "metadata": {},
     "output_type": "execute_result"
    }
   ],
   "source": [
    "loan_df.groupby(loan_df['loan_status'])['Gender'].value_counts()"
   ]
  },
  {
   "cell_type": "code",
   "execution_count": 9,
   "metadata": {},
   "outputs": [],
   "source": [
    "loan_df['effective_date']=pd.to_datetime(loan_df['effective_date'])"
   ]
  },
  {
   "cell_type": "code",
   "execution_count": 10,
   "metadata": {},
   "outputs": [],
   "source": [
    "loan_df['due_date']=pd.to_datetime(loan_df['due_date'])"
   ]
  },
  {
   "cell_type": "code",
   "execution_count": 11,
   "metadata": {},
   "outputs": [
    {
     "data": {
      "text/html": [
       "<div>\n",
       "<style scoped>\n",
       "    .dataframe tbody tr th:only-of-type {\n",
       "        vertical-align: middle;\n",
       "    }\n",
       "\n",
       "    .dataframe tbody tr th {\n",
       "        vertical-align: top;\n",
       "    }\n",
       "\n",
       "    .dataframe thead th {\n",
       "        text-align: right;\n",
       "    }\n",
       "</style>\n",
       "<table border=\"1\" class=\"dataframe\">\n",
       "  <thead>\n",
       "    <tr style=\"text-align: right;\">\n",
       "      <th></th>\n",
       "      <th>loan_status</th>\n",
       "      <th>Principal</th>\n",
       "      <th>terms</th>\n",
       "      <th>effective_date</th>\n",
       "      <th>due_date</th>\n",
       "      <th>age</th>\n",
       "      <th>education</th>\n",
       "      <th>Gender</th>\n",
       "    </tr>\n",
       "  </thead>\n",
       "  <tbody>\n",
       "    <tr>\n",
       "      <th>0</th>\n",
       "      <td>PAIDOFF</td>\n",
       "      <td>1000</td>\n",
       "      <td>30</td>\n",
       "      <td>2016-09-08</td>\n",
       "      <td>2016-10-07</td>\n",
       "      <td>50</td>\n",
       "      <td>Bechalor</td>\n",
       "      <td>female</td>\n",
       "    </tr>\n",
       "    <tr>\n",
       "      <th>1</th>\n",
       "      <td>PAIDOFF</td>\n",
       "      <td>300</td>\n",
       "      <td>7</td>\n",
       "      <td>2016-09-09</td>\n",
       "      <td>2016-09-15</td>\n",
       "      <td>35</td>\n",
       "      <td>Master or Above</td>\n",
       "      <td>male</td>\n",
       "    </tr>\n",
       "    <tr>\n",
       "      <th>2</th>\n",
       "      <td>PAIDOFF</td>\n",
       "      <td>1000</td>\n",
       "      <td>30</td>\n",
       "      <td>2016-09-10</td>\n",
       "      <td>2016-10-09</td>\n",
       "      <td>43</td>\n",
       "      <td>High School or Below</td>\n",
       "      <td>female</td>\n",
       "    </tr>\n",
       "    <tr>\n",
       "      <th>3</th>\n",
       "      <td>PAIDOFF</td>\n",
       "      <td>1000</td>\n",
       "      <td>30</td>\n",
       "      <td>2016-09-10</td>\n",
       "      <td>2016-10-09</td>\n",
       "      <td>26</td>\n",
       "      <td>college</td>\n",
       "      <td>male</td>\n",
       "    </tr>\n",
       "    <tr>\n",
       "      <th>4</th>\n",
       "      <td>PAIDOFF</td>\n",
       "      <td>800</td>\n",
       "      <td>15</td>\n",
       "      <td>2016-09-11</td>\n",
       "      <td>2016-09-25</td>\n",
       "      <td>29</td>\n",
       "      <td>Bechalor</td>\n",
       "      <td>male</td>\n",
       "    </tr>\n",
       "  </tbody>\n",
       "</table>\n",
       "</div>"
      ],
      "text/plain": [
       "  loan_status  Principal  terms effective_date   due_date  age  \\\n",
       "0     PAIDOFF       1000     30     2016-09-08 2016-10-07   50   \n",
       "1     PAIDOFF        300      7     2016-09-09 2016-09-15   35   \n",
       "2     PAIDOFF       1000     30     2016-09-10 2016-10-09   43   \n",
       "3     PAIDOFF       1000     30     2016-09-10 2016-10-09   26   \n",
       "4     PAIDOFF        800     15     2016-09-11 2016-09-25   29   \n",
       "\n",
       "              education  Gender  \n",
       "0              Bechalor  female  \n",
       "1       Master or Above    male  \n",
       "2  High School or Below  female  \n",
       "3               college    male  \n",
       "4              Bechalor    male  "
      ]
     },
     "execution_count": 11,
     "metadata": {},
     "output_type": "execute_result"
    }
   ],
   "source": [
    "loan_df.head()"
   ]
  },
  {
   "cell_type": "code",
   "execution_count": 12,
   "metadata": {},
   "outputs": [],
   "source": [
    "loan_df['Dayofweek']= loan_df['due_date'].dt.dayofweek"
   ]
  },
  {
   "cell_type": "code",
   "execution_count": 13,
   "metadata": {},
   "outputs": [
    {
     "data": {
      "text/html": [
       "<div>\n",
       "<style scoped>\n",
       "    .dataframe tbody tr th:only-of-type {\n",
       "        vertical-align: middle;\n",
       "    }\n",
       "\n",
       "    .dataframe tbody tr th {\n",
       "        vertical-align: top;\n",
       "    }\n",
       "\n",
       "    .dataframe thead th {\n",
       "        text-align: right;\n",
       "    }\n",
       "</style>\n",
       "<table border=\"1\" class=\"dataframe\">\n",
       "  <thead>\n",
       "    <tr style=\"text-align: right;\">\n",
       "      <th></th>\n",
       "      <th>loan_status</th>\n",
       "      <th>Principal</th>\n",
       "      <th>terms</th>\n",
       "      <th>effective_date</th>\n",
       "      <th>due_date</th>\n",
       "      <th>age</th>\n",
       "      <th>education</th>\n",
       "      <th>Gender</th>\n",
       "      <th>Dayofweek</th>\n",
       "    </tr>\n",
       "  </thead>\n",
       "  <tbody>\n",
       "    <tr>\n",
       "      <th>0</th>\n",
       "      <td>PAIDOFF</td>\n",
       "      <td>1000</td>\n",
       "      <td>30</td>\n",
       "      <td>2016-09-08</td>\n",
       "      <td>2016-10-07</td>\n",
       "      <td>50</td>\n",
       "      <td>Bechalor</td>\n",
       "      <td>female</td>\n",
       "      <td>4</td>\n",
       "    </tr>\n",
       "    <tr>\n",
       "      <th>1</th>\n",
       "      <td>PAIDOFF</td>\n",
       "      <td>300</td>\n",
       "      <td>7</td>\n",
       "      <td>2016-09-09</td>\n",
       "      <td>2016-09-15</td>\n",
       "      <td>35</td>\n",
       "      <td>Master or Above</td>\n",
       "      <td>male</td>\n",
       "      <td>3</td>\n",
       "    </tr>\n",
       "    <tr>\n",
       "      <th>2</th>\n",
       "      <td>PAIDOFF</td>\n",
       "      <td>1000</td>\n",
       "      <td>30</td>\n",
       "      <td>2016-09-10</td>\n",
       "      <td>2016-10-09</td>\n",
       "      <td>43</td>\n",
       "      <td>High School or Below</td>\n",
       "      <td>female</td>\n",
       "      <td>6</td>\n",
       "    </tr>\n",
       "    <tr>\n",
       "      <th>3</th>\n",
       "      <td>PAIDOFF</td>\n",
       "      <td>1000</td>\n",
       "      <td>30</td>\n",
       "      <td>2016-09-10</td>\n",
       "      <td>2016-10-09</td>\n",
       "      <td>26</td>\n",
       "      <td>college</td>\n",
       "      <td>male</td>\n",
       "      <td>6</td>\n",
       "    </tr>\n",
       "    <tr>\n",
       "      <th>4</th>\n",
       "      <td>PAIDOFF</td>\n",
       "      <td>800</td>\n",
       "      <td>15</td>\n",
       "      <td>2016-09-11</td>\n",
       "      <td>2016-09-25</td>\n",
       "      <td>29</td>\n",
       "      <td>Bechalor</td>\n",
       "      <td>male</td>\n",
       "      <td>6</td>\n",
       "    </tr>\n",
       "  </tbody>\n",
       "</table>\n",
       "</div>"
      ],
      "text/plain": [
       "  loan_status  Principal  terms effective_date   due_date  age  \\\n",
       "0     PAIDOFF       1000     30     2016-09-08 2016-10-07   50   \n",
       "1     PAIDOFF        300      7     2016-09-09 2016-09-15   35   \n",
       "2     PAIDOFF       1000     30     2016-09-10 2016-10-09   43   \n",
       "3     PAIDOFF       1000     30     2016-09-10 2016-10-09   26   \n",
       "4     PAIDOFF        800     15     2016-09-11 2016-09-25   29   \n",
       "\n",
       "              education  Gender  Dayofweek  \n",
       "0              Bechalor  female          4  \n",
       "1       Master or Above    male          3  \n",
       "2  High School or Below  female          6  \n",
       "3               college    male          6  \n",
       "4              Bechalor    male          6  "
      ]
     },
     "execution_count": 13,
     "metadata": {},
     "output_type": "execute_result"
    }
   ],
   "source": [
    "loan_df.head()"
   ]
  },
  {
   "cell_type": "code",
   "execution_count": 14,
   "metadata": {},
   "outputs": [
    {
     "data": {
      "text/plain": [
       "0    146\n",
       "6    101\n",
       "1     59\n",
       "5     29\n",
       "3     29\n",
       "2     27\n",
       "4      9\n",
       "Name: Dayofweek, dtype: int64"
      ]
     },
     "execution_count": 14,
     "metadata": {},
     "output_type": "execute_result"
    }
   ],
   "source": [
    "loan_df['Dayofweek'].value_counts()"
   ]
  },
  {
   "cell_type": "code",
   "execution_count": 15,
   "metadata": {},
   "outputs": [],
   "source": [
    "loan_df = loan_df.drop(['effective_date','due_date'], axis =1)"
   ]
  },
  {
   "cell_type": "code",
   "execution_count": 16,
   "metadata": {},
   "outputs": [
    {
     "data": {
      "text/html": [
       "<div>\n",
       "<style scoped>\n",
       "    .dataframe tbody tr th:only-of-type {\n",
       "        vertical-align: middle;\n",
       "    }\n",
       "\n",
       "    .dataframe tbody tr th {\n",
       "        vertical-align: top;\n",
       "    }\n",
       "\n",
       "    .dataframe thead th {\n",
       "        text-align: right;\n",
       "    }\n",
       "</style>\n",
       "<table border=\"1\" class=\"dataframe\">\n",
       "  <thead>\n",
       "    <tr style=\"text-align: right;\">\n",
       "      <th></th>\n",
       "      <th>loan_status</th>\n",
       "      <th>Principal</th>\n",
       "      <th>terms</th>\n",
       "      <th>age</th>\n",
       "      <th>education</th>\n",
       "      <th>Gender</th>\n",
       "      <th>Dayofweek</th>\n",
       "    </tr>\n",
       "  </thead>\n",
       "  <tbody>\n",
       "    <tr>\n",
       "      <th>0</th>\n",
       "      <td>PAIDOFF</td>\n",
       "      <td>1000</td>\n",
       "      <td>30</td>\n",
       "      <td>50</td>\n",
       "      <td>Bechalor</td>\n",
       "      <td>female</td>\n",
       "      <td>4</td>\n",
       "    </tr>\n",
       "    <tr>\n",
       "      <th>1</th>\n",
       "      <td>PAIDOFF</td>\n",
       "      <td>300</td>\n",
       "      <td>7</td>\n",
       "      <td>35</td>\n",
       "      <td>Master or Above</td>\n",
       "      <td>male</td>\n",
       "      <td>3</td>\n",
       "    </tr>\n",
       "    <tr>\n",
       "      <th>2</th>\n",
       "      <td>PAIDOFF</td>\n",
       "      <td>1000</td>\n",
       "      <td>30</td>\n",
       "      <td>43</td>\n",
       "      <td>High School or Below</td>\n",
       "      <td>female</td>\n",
       "      <td>6</td>\n",
       "    </tr>\n",
       "    <tr>\n",
       "      <th>3</th>\n",
       "      <td>PAIDOFF</td>\n",
       "      <td>1000</td>\n",
       "      <td>30</td>\n",
       "      <td>26</td>\n",
       "      <td>college</td>\n",
       "      <td>male</td>\n",
       "      <td>6</td>\n",
       "    </tr>\n",
       "    <tr>\n",
       "      <th>4</th>\n",
       "      <td>PAIDOFF</td>\n",
       "      <td>800</td>\n",
       "      <td>15</td>\n",
       "      <td>29</td>\n",
       "      <td>Bechalor</td>\n",
       "      <td>male</td>\n",
       "      <td>6</td>\n",
       "    </tr>\n",
       "  </tbody>\n",
       "</table>\n",
       "</div>"
      ],
      "text/plain": [
       "  loan_status  Principal  terms  age             education  Gender  Dayofweek\n",
       "0     PAIDOFF       1000     30   50              Bechalor  female          4\n",
       "1     PAIDOFF        300      7   35       Master or Above    male          3\n",
       "2     PAIDOFF       1000     30   43  High School or Below  female          6\n",
       "3     PAIDOFF       1000     30   26               college    male          6\n",
       "4     PAIDOFF        800     15   29              Bechalor    male          6"
      ]
     },
     "execution_count": 16,
     "metadata": {},
     "output_type": "execute_result"
    }
   ],
   "source": [
    "loan_df.head()"
   ]
  },
  {
   "cell_type": "code",
   "execution_count": 17,
   "metadata": {},
   "outputs": [],
   "source": [
    "loan_df['weekend']= loan_df['Dayofweek'].apply(lambda x:1 if (x>4) else 0)"
   ]
  },
  {
   "cell_type": "code",
   "execution_count": 23,
   "metadata": {},
   "outputs": [
    {
     "data": {
      "text/plain": [
       "<matplotlib.legend.Legend at 0x7fc86559c890>"
      ]
     },
     "execution_count": 23,
     "metadata": {},
     "output_type": "execute_result"
    },
    {
     "data": {
      "image/png": "[encoded data removed]",
      "text/plain": [
       "<Figure size 864x288 with 2 Axes>"
      ]
     },
     "metadata": {
      "needs_background": "light"
     },
     "output_type": "display_data"
    }
   ],
   "source": [
    "plt.Figure(figsize=(12,6), dpi=1000)\n",
    "a = sns.FacetGrid(data=loan_df,col='Gender',hue='loan_status',palette='Set1', height=4,aspect=1.5, margin_titles=True)\n",
    "a.map(plt.hist,'Principal')\n",
    "plt.legend()\n"
   ]
  },
  {
   "cell_type": "code",
   "execution_count": null,
   "metadata": {},
   "outputs": [],
   "source": []
  },
  {
   "cell_type": "code",
   "execution_count": 102,
   "metadata": {},
   "outputs": [
    {
     "data": {
      "text/plain": [
       "<matplotlib.legend.Legend at 0x7ff15316c150>"
      ]
     },
     "execution_count": 102,
     "metadata": {},
     "output_type": "execute_result"
    },
    {
     "data": {
      "image/png": "[encoded data removed]",
      "text/plain": [
       "<Figure size 864x288 with 2 Axes>"
      ]
     },
     "metadata": {
      "needs_background": "light"
     },
     "output_type": "display_data"
    }
   ],
   "source": [
    "plt.Figure(figsize=(12,6), dpi=1000)\n",
    "a = sns.FacetGrid(data=loan_df,col='Gender',hue='loan_status',\n",
    "                  palette='Set1', height=4,aspect=1.5, margin_titles=True)\n",
    "a.map(plt.hist,'age')\n",
    "plt.legend()"
   ]
  },
  {
   "cell_type": "code",
   "execution_count": 103,
   "metadata": {},
   "outputs": [
    {
     "data": {
      "text/plain": [
       "<matplotlib.legend.Legend at 0x7ff1534200d0>"
      ]
     },
     "execution_count": 103,
     "metadata": {},
     "output_type": "execute_result"
    },
    {
     "data": {
      "image/png": "[encoded data removed]",
      "text/plain": [
       "<Figure size 864x288 with 2 Axes>"
      ]
     },
     "metadata": {
      "needs_background": "light"
     },
     "output_type": "display_data"
    }
   ],
   "source": [
    "plt.Figure(figsize=(12,6), dpi=1000)\n",
    "a = sns.FacetGrid(data=loan_df,col='Gender',hue='loan_status',\n",
    "                  palette='Set3', height=4,aspect=1.5, margin_titles=True)\n",
    "a.map(plt.hist,'Dayofweek')\n",
    "plt.legend()"
   ]
  },
  {
   "cell_type": "code",
   "execution_count": 104,
   "metadata": {},
   "outputs": [
    {
     "data": {
      "text/plain": [
       "<matplotlib.legend.Legend at 0x7ff153900210>"
      ]
     },
     "execution_count": 104,
     "metadata": {},
     "output_type": "execute_result"
    },
    {
     "data": {
      "image/png": "[encoded data removed]",
      "text/plain": [
       "<Figure size 864x288 with 2 Axes>"
      ]
     },
     "metadata": {
      "needs_background": "light"
     },
     "output_type": "display_data"
    }
   ],
   "source": [
    "plt.Figure(figsize=(12,6), dpi=1000)\n",
    "a = sns.FacetGrid(data=loan_df,col='Gender',hue='loan_status',palette='Set1', height=4,aspect=1.5, margin_titles=True)\n",
    "a.map(plt.hist,'terms')\n",
    "plt.legend()"
   ]
  },
  {
   "cell_type": "code",
   "execution_count": 105,
   "metadata": {},
   "outputs": [
    {
     "data": {
      "text/plain": [
       "<seaborn.axisgrid.JointGrid at 0x7ff1530cdf10>"
      ]
     },
     "execution_count": 105,
     "metadata": {},
     "output_type": "execute_result"
    },
    {
     "data": {
      "image/png": "[encoded data removed]",
      "text/plain": [
       "<Figure size 432x432 with 3 Axes>"
      ]
     },
     "metadata": {
      "needs_background": "light"
     },
     "output_type": "display_data"
    }
   ],
   "source": [
    "sns.jointplot(y = 'age',x = 'Principal',data = loan_df,kind='scatter')"
   ]
  },
  {
   "cell_type": "code",
   "execution_count": 106,
   "metadata": {},
   "outputs": [
    {
     "name": "stderr",
     "output_type": "stream",
     "text": [
      "/Users/ganeshnarayanan/opt/anaconda3/lib/python3.7/site-packages/statsmodels/nonparametric/kde.py:487: RuntimeWarning: invalid value encountered in true_divide\n",
      "  binned = fast_linbin(X, a, b, gridsize) / (delta * nobs)\n",
      "/Users/ganeshnarayanan/opt/anaconda3/lib/python3.7/site-packages/statsmodels/nonparametric/kdetools.py:34: RuntimeWarning: invalid value encountered in double_scalars\n",
      "  FAC1 = 2*(np.pi*bw/RANGE)**2\n",
      "/Users/ganeshnarayanan/opt/anaconda3/lib/python3.7/site-packages/statsmodels/nonparametric/kde.py:487: RuntimeWarning: invalid value encountered in true_divide\n",
      "  binned = fast_linbin(X, a, b, gridsize) / (delta * nobs)\n",
      "/Users/ganeshnarayanan/opt/anaconda3/lib/python3.7/site-packages/statsmodels/nonparametric/kdetools.py:34: RuntimeWarning: invalid value encountered in double_scalars\n",
      "  FAC1 = 2*(np.pi*bw/RANGE)**2\n",
      "/Users/ganeshnarayanan/opt/anaconda3/lib/python3.7/site-packages/statsmodels/nonparametric/kde.py:487: RuntimeWarning: invalid value encountered in true_divide\n",
      "  binned = fast_linbin(X, a, b, gridsize) / (delta * nobs)\n",
      "/Users/ganeshnarayanan/opt/anaconda3/lib/python3.7/site-packages/statsmodels/nonparametric/kdetools.py:34: RuntimeWarning: invalid value encountered in double_scalars\n",
      "  FAC1 = 2*(np.pi*bw/RANGE)**2\n"
     ]
    },
    {
     "data": {
      "text/plain": [
       "<seaborn.axisgrid.PairGrid at 0x7ff152b36a10>"
      ]
     },
     "execution_count": 106,
     "metadata": {},
     "output_type": "execute_result"
    },
    {
     "data": {
      "image/png": "[encoded data removed]",
      "text/plain": [
       "<Figure size 948.75x900 with 30 Axes>"
      ]
     },
     "metadata": {
      "needs_background": "light"
     },
     "output_type": "display_data"
    }
   ],
   "source": [
    "sns.pairplot(loan_df,hue='terms',palette='Set3')\n"
   ]
  },
  {
   "cell_type": "markdown",
   "metadata": {},
   "source": [
    "## Conversion of Categorical Categories into Numericals"
   ]
  },
  {
   "cell_type": "code",
   "execution_count": 107,
   "metadata": {},
   "outputs": [
    {
     "data": {
      "text/html": [
       "<div>\n",
       "<style scoped>\n",
       "    .dataframe tbody tr th:only-of-type {\n",
       "        vertical-align: middle;\n",
       "    }\n",
       "\n",
       "    .dataframe tbody tr th {\n",
       "        vertical-align: top;\n",
       "    }\n",
       "\n",
       "    .dataframe thead th {\n",
       "        text-align: right;\n",
       "    }\n",
       "</style>\n",
       "<table border=\"1\" class=\"dataframe\">\n",
       "  <thead>\n",
       "    <tr style=\"text-align: right;\">\n",
       "      <th></th>\n",
       "      <th>Bechalor</th>\n",
       "      <th>High School or Below</th>\n",
       "      <th>Master or Above</th>\n",
       "      <th>college</th>\n",
       "    </tr>\n",
       "  </thead>\n",
       "  <tbody>\n",
       "    <tr>\n",
       "      <th>0</th>\n",
       "      <td>1</td>\n",
       "      <td>0</td>\n",
       "      <td>0</td>\n",
       "      <td>0</td>\n",
       "    </tr>\n",
       "    <tr>\n",
       "      <th>1</th>\n",
       "      <td>0</td>\n",
       "      <td>0</td>\n",
       "      <td>1</td>\n",
       "      <td>0</td>\n",
       "    </tr>\n",
       "    <tr>\n",
       "      <th>2</th>\n",
       "      <td>0</td>\n",
       "      <td>1</td>\n",
       "      <td>0</td>\n",
       "      <td>0</td>\n",
       "    </tr>\n",
       "    <tr>\n",
       "      <th>3</th>\n",
       "      <td>0</td>\n",
       "      <td>0</td>\n",
       "      <td>0</td>\n",
       "      <td>1</td>\n",
       "    </tr>\n",
       "    <tr>\n",
       "      <th>4</th>\n",
       "      <td>1</td>\n",
       "      <td>0</td>\n",
       "      <td>0</td>\n",
       "      <td>0</td>\n",
       "    </tr>\n",
       "  </tbody>\n",
       "</table>\n",
       "</div>"
      ],
      "text/plain": [
       "   Bechalor  High School or Below  Master or Above  college\n",
       "0         1                     0                0        0\n",
       "1         0                     0                1        0\n",
       "2         0                     1                0        0\n",
       "3         0                     0                0        1\n",
       "4         1                     0                0        0"
      ]
     },
     "execution_count": 107,
     "metadata": {},
     "output_type": "execute_result"
    }
   ],
   "source": [
    "loan_df1 = pd.get_dummies(loan_df['education'],drop_first = False)\n",
    "loan_df1.head()"
   ]
  },
  {
   "cell_type": "code",
   "execution_count": 108,
   "metadata": {},
   "outputs": [
    {
     "data": {
      "text/html": [
       "<div>\n",
       "<style scoped>\n",
       "    .dataframe tbody tr th:only-of-type {\n",
       "        vertical-align: middle;\n",
       "    }\n",
       "\n",
       "    .dataframe tbody tr th {\n",
       "        vertical-align: top;\n",
       "    }\n",
       "\n",
       "    .dataframe thead th {\n",
       "        text-align: right;\n",
       "    }\n",
       "</style>\n",
       "<table border=\"1\" class=\"dataframe\">\n",
       "  <thead>\n",
       "    <tr style=\"text-align: right;\">\n",
       "      <th></th>\n",
       "      <th>male</th>\n",
       "    </tr>\n",
       "  </thead>\n",
       "  <tbody>\n",
       "    <tr>\n",
       "      <th>0</th>\n",
       "      <td>0</td>\n",
       "    </tr>\n",
       "    <tr>\n",
       "      <th>1</th>\n",
       "      <td>1</td>\n",
       "    </tr>\n",
       "    <tr>\n",
       "      <th>2</th>\n",
       "      <td>0</td>\n",
       "    </tr>\n",
       "    <tr>\n",
       "      <th>3</th>\n",
       "      <td>1</td>\n",
       "    </tr>\n",
       "    <tr>\n",
       "      <th>4</th>\n",
       "      <td>1</td>\n",
       "    </tr>\n",
       "  </tbody>\n",
       "</table>\n",
       "</div>"
      ],
      "text/plain": [
       "   male\n",
       "0     0\n",
       "1     1\n",
       "2     0\n",
       "3     1\n",
       "4     1"
      ]
     },
     "execution_count": 108,
     "metadata": {},
     "output_type": "execute_result"
    }
   ],
   "source": [
    "loan_df2 = pd.get_dummies(loan_df['Gender'],drop_first=True)\n",
    "loan_df2.head()"
   ]
  },
  {
   "cell_type": "code",
   "execution_count": 109,
   "metadata": {},
   "outputs": [
    {
     "data": {
      "text/html": [
       "<div>\n",
       "<style scoped>\n",
       "    .dataframe tbody tr th:only-of-type {\n",
       "        vertical-align: middle;\n",
       "    }\n",
       "\n",
       "    .dataframe tbody tr th {\n",
       "        vertical-align: top;\n",
       "    }\n",
       "\n",
       "    .dataframe thead th {\n",
       "        text-align: right;\n",
       "    }\n",
       "</style>\n",
       "<table border=\"1\" class=\"dataframe\">\n",
       "  <thead>\n",
       "    <tr style=\"text-align: right;\">\n",
       "      <th></th>\n",
       "      <th>Bechalor</th>\n",
       "      <th>High School or Below</th>\n",
       "      <th>Master or Above</th>\n",
       "      <th>college</th>\n",
       "      <th>male</th>\n",
       "    </tr>\n",
       "  </thead>\n",
       "  <tbody>\n",
       "    <tr>\n",
       "      <th>0</th>\n",
       "      <td>1</td>\n",
       "      <td>0</td>\n",
       "      <td>0</td>\n",
       "      <td>0</td>\n",
       "      <td>0</td>\n",
       "    </tr>\n",
       "    <tr>\n",
       "      <th>1</th>\n",
       "      <td>0</td>\n",
       "      <td>0</td>\n",
       "      <td>1</td>\n",
       "      <td>0</td>\n",
       "      <td>1</td>\n",
       "    </tr>\n",
       "    <tr>\n",
       "      <th>2</th>\n",
       "      <td>0</td>\n",
       "      <td>1</td>\n",
       "      <td>0</td>\n",
       "      <td>0</td>\n",
       "      <td>0</td>\n",
       "    </tr>\n",
       "    <tr>\n",
       "      <th>3</th>\n",
       "      <td>0</td>\n",
       "      <td>0</td>\n",
       "      <td>0</td>\n",
       "      <td>1</td>\n",
       "      <td>1</td>\n",
       "    </tr>\n",
       "    <tr>\n",
       "      <th>4</th>\n",
       "      <td>1</td>\n",
       "      <td>0</td>\n",
       "      <td>0</td>\n",
       "      <td>0</td>\n",
       "      <td>1</td>\n",
       "    </tr>\n",
       "    <tr>\n",
       "      <th>...</th>\n",
       "      <td>...</td>\n",
       "      <td>...</td>\n",
       "      <td>...</td>\n",
       "      <td>...</td>\n",
       "      <td>...</td>\n",
       "    </tr>\n",
       "    <tr>\n",
       "      <th>341</th>\n",
       "      <td>0</td>\n",
       "      <td>1</td>\n",
       "      <td>0</td>\n",
       "      <td>0</td>\n",
       "      <td>1</td>\n",
       "    </tr>\n",
       "    <tr>\n",
       "      <th>342</th>\n",
       "      <td>0</td>\n",
       "      <td>1</td>\n",
       "      <td>0</td>\n",
       "      <td>0</td>\n",
       "      <td>1</td>\n",
       "    </tr>\n",
       "    <tr>\n",
       "      <th>343</th>\n",
       "      <td>0</td>\n",
       "      <td>0</td>\n",
       "      <td>0</td>\n",
       "      <td>1</td>\n",
       "      <td>1</td>\n",
       "    </tr>\n",
       "    <tr>\n",
       "      <th>344</th>\n",
       "      <td>0</td>\n",
       "      <td>0</td>\n",
       "      <td>0</td>\n",
       "      <td>1</td>\n",
       "      <td>1</td>\n",
       "    </tr>\n",
       "    <tr>\n",
       "      <th>345</th>\n",
       "      <td>0</td>\n",
       "      <td>0</td>\n",
       "      <td>0</td>\n",
       "      <td>1</td>\n",
       "      <td>1</td>\n",
       "    </tr>\n",
       "  </tbody>\n",
       "</table>\n",
       "<p>400 rows × 5 columns</p>\n",
       "</div>"
      ],
      "text/plain": [
       "     Bechalor  High School or Below  Master or Above  college  male\n",
       "0           1                     0                0        0     0\n",
       "1           0                     0                1        0     1\n",
       "2           0                     1                0        0     0\n",
       "3           0                     0                0        1     1\n",
       "4           1                     0                0        0     1\n",
       "..        ...                   ...              ...      ...   ...\n",
       "341         0                     1                0        0     1\n",
       "342         0                     1                0        0     1\n",
       "343         0                     0                0        1     1\n",
       "344         0                     0                0        1     1\n",
       "345         0                     0                0        1     1\n",
       "\n",
       "[400 rows x 5 columns]"
      ]
     },
     "execution_count": 109,
     "metadata": {},
     "output_type": "execute_result"
    }
   ],
   "source": [
    "loan_df3 = pd.concat([loan_df1, loan_df2],axis=1)\n",
    "#loan_df3 = loan_df.drop(['education'], axis=1)\n",
    "loan_df3"
   ]
  },
  {
   "cell_type": "code",
   "execution_count": 110,
   "metadata": {},
   "outputs": [],
   "source": [
    "loan_df4 = loan_df.drop(['Gender','education'],axis=1)"
   ]
  },
  {
   "cell_type": "code",
   "execution_count": 111,
   "metadata": {},
   "outputs": [
    {
     "data": {
      "text/html": [
       "<div>\n",
       "<style scoped>\n",
       "    .dataframe tbody tr th:only-of-type {\n",
       "        vertical-align: middle;\n",
       "    }\n",
       "\n",
       "    .dataframe tbody tr th {\n",
       "        vertical-align: top;\n",
       "    }\n",
       "\n",
       "    .dataframe thead th {\n",
       "        text-align: right;\n",
       "    }\n",
       "</style>\n",
       "<table border=\"1\" class=\"dataframe\">\n",
       "  <thead>\n",
       "    <tr style=\"text-align: right;\">\n",
       "      <th></th>\n",
       "      <th>loan_status</th>\n",
       "      <th>Principal</th>\n",
       "      <th>terms</th>\n",
       "      <th>age</th>\n",
       "      <th>Dayofweek</th>\n",
       "      <th>weekend</th>\n",
       "    </tr>\n",
       "  </thead>\n",
       "  <tbody>\n",
       "    <tr>\n",
       "      <th>0</th>\n",
       "      <td>PAIDOFF</td>\n",
       "      <td>1000</td>\n",
       "      <td>30</td>\n",
       "      <td>50</td>\n",
       "      <td>4</td>\n",
       "      <td>0</td>\n",
       "    </tr>\n",
       "    <tr>\n",
       "      <th>1</th>\n",
       "      <td>PAIDOFF</td>\n",
       "      <td>300</td>\n",
       "      <td>7</td>\n",
       "      <td>35</td>\n",
       "      <td>3</td>\n",
       "      <td>0</td>\n",
       "    </tr>\n",
       "    <tr>\n",
       "      <th>2</th>\n",
       "      <td>PAIDOFF</td>\n",
       "      <td>1000</td>\n",
       "      <td>30</td>\n",
       "      <td>43</td>\n",
       "      <td>6</td>\n",
       "      <td>1</td>\n",
       "    </tr>\n",
       "    <tr>\n",
       "      <th>3</th>\n",
       "      <td>PAIDOFF</td>\n",
       "      <td>1000</td>\n",
       "      <td>30</td>\n",
       "      <td>26</td>\n",
       "      <td>6</td>\n",
       "      <td>1</td>\n",
       "    </tr>\n",
       "    <tr>\n",
       "      <th>4</th>\n",
       "      <td>PAIDOFF</td>\n",
       "      <td>800</td>\n",
       "      <td>15</td>\n",
       "      <td>29</td>\n",
       "      <td>6</td>\n",
       "      <td>1</td>\n",
       "    </tr>\n",
       "  </tbody>\n",
       "</table>\n",
       "</div>"
      ],
      "text/plain": [
       "  loan_status  Principal  terms  age  Dayofweek  weekend\n",
       "0     PAIDOFF       1000     30   50          4        0\n",
       "1     PAIDOFF        300      7   35          3        0\n",
       "2     PAIDOFF       1000     30   43          6        1\n",
       "3     PAIDOFF       1000     30   26          6        1\n",
       "4     PAIDOFF        800     15   29          6        1"
      ]
     },
     "execution_count": 111,
     "metadata": {},
     "output_type": "execute_result"
    }
   ],
   "source": [
    "loan_df4.head()"
   ]
  },
  {
   "cell_type": "code",
   "execution_count": 112,
   "metadata": {},
   "outputs": [
    {
     "data": {
      "text/html": [
       "<div>\n",
       "<style scoped>\n",
       "    .dataframe tbody tr th:only-of-type {\n",
       "        vertical-align: middle;\n",
       "    }\n",
       "\n",
       "    .dataframe tbody tr th {\n",
       "        vertical-align: top;\n",
       "    }\n",
       "\n",
       "    .dataframe thead th {\n",
       "        text-align: right;\n",
       "    }\n",
       "</style>\n",
       "<table border=\"1\" class=\"dataframe\">\n",
       "  <thead>\n",
       "    <tr style=\"text-align: right;\">\n",
       "      <th></th>\n",
       "      <th>Bechalor</th>\n",
       "      <th>High School or Below</th>\n",
       "      <th>Master or Above</th>\n",
       "      <th>college</th>\n",
       "      <th>male</th>\n",
       "      <th>loan_status</th>\n",
       "      <th>Principal</th>\n",
       "      <th>terms</th>\n",
       "      <th>age</th>\n",
       "      <th>Dayofweek</th>\n",
       "      <th>weekend</th>\n",
       "    </tr>\n",
       "  </thead>\n",
       "  <tbody>\n",
       "    <tr>\n",
       "      <th>0</th>\n",
       "      <td>1</td>\n",
       "      <td>0</td>\n",
       "      <td>0</td>\n",
       "      <td>0</td>\n",
       "      <td>0</td>\n",
       "      <td>PAIDOFF</td>\n",
       "      <td>1000</td>\n",
       "      <td>30</td>\n",
       "      <td>50</td>\n",
       "      <td>4</td>\n",
       "      <td>0</td>\n",
       "    </tr>\n",
       "    <tr>\n",
       "      <th>1</th>\n",
       "      <td>0</td>\n",
       "      <td>0</td>\n",
       "      <td>1</td>\n",
       "      <td>0</td>\n",
       "      <td>1</td>\n",
       "      <td>PAIDOFF</td>\n",
       "      <td>300</td>\n",
       "      <td>7</td>\n",
       "      <td>35</td>\n",
       "      <td>3</td>\n",
       "      <td>0</td>\n",
       "    </tr>\n",
       "    <tr>\n",
       "      <th>2</th>\n",
       "      <td>0</td>\n",
       "      <td>1</td>\n",
       "      <td>0</td>\n",
       "      <td>0</td>\n",
       "      <td>0</td>\n",
       "      <td>PAIDOFF</td>\n",
       "      <td>1000</td>\n",
       "      <td>30</td>\n",
       "      <td>43</td>\n",
       "      <td>6</td>\n",
       "      <td>1</td>\n",
       "    </tr>\n",
       "    <tr>\n",
       "      <th>3</th>\n",
       "      <td>0</td>\n",
       "      <td>0</td>\n",
       "      <td>0</td>\n",
       "      <td>1</td>\n",
       "      <td>1</td>\n",
       "      <td>PAIDOFF</td>\n",
       "      <td>1000</td>\n",
       "      <td>30</td>\n",
       "      <td>26</td>\n",
       "      <td>6</td>\n",
       "      <td>1</td>\n",
       "    </tr>\n",
       "    <tr>\n",
       "      <th>4</th>\n",
       "      <td>1</td>\n",
       "      <td>0</td>\n",
       "      <td>0</td>\n",
       "      <td>0</td>\n",
       "      <td>1</td>\n",
       "      <td>PAIDOFF</td>\n",
       "      <td>800</td>\n",
       "      <td>15</td>\n",
       "      <td>29</td>\n",
       "      <td>6</td>\n",
       "      <td>1</td>\n",
       "    </tr>\n",
       "  </tbody>\n",
       "</table>\n",
       "</div>"
      ],
      "text/plain": [
       "   Bechalor  High School or Below  Master or Above  college  male loan_status  \\\n",
       "0         1                     0                0        0     0     PAIDOFF   \n",
       "1         0                     0                1        0     1     PAIDOFF   \n",
       "2         0                     1                0        0     0     PAIDOFF   \n",
       "3         0                     0                0        1     1     PAIDOFF   \n",
       "4         1                     0                0        0     1     PAIDOFF   \n",
       "\n",
       "   Principal  terms  age  Dayofweek  weekend  \n",
       "0       1000     30   50          4        0  \n",
       "1        300      7   35          3        0  \n",
       "2       1000     30   43          6        1  \n",
       "3       1000     30   26          6        1  \n",
       "4        800     15   29          6        1  "
      ]
     },
     "execution_count": 112,
     "metadata": {},
     "output_type": "execute_result"
    }
   ],
   "source": [
    "loan_df5 = pd.concat([loan_df3, loan_df4], axis=1)\n",
    "loan_df5.head()"
   ]
  },
  {
   "cell_type": "code",
   "execution_count": 113,
   "metadata": {},
   "outputs": [
    {
     "data": {
      "text/plain": [
       "(15, 50)"
      ]
     },
     "execution_count": 113,
     "metadata": {},
     "output_type": "execute_result"
    },
    {
     "data": {
      "image/png": "[encoded data removed]",
      "text/plain": [
       "<Figure size 432x288 with 1 Axes>"
      ]
     },
     "metadata": {
      "needs_background": "light"
     },
     "output_type": "display_data"
    }
   ],
   "source": [
    "sns.kdeplot( loan_df5['terms'], loan_df5['age'],\n",
    "                 cmap=\"plasma\", shade=True, shade_lowest=False)\n",
    "plt.xlabel(\"Terms\", fontsize=15)\n",
    "plt.ylabel(\"Age\", fontsize=15)\n",
    "plt.xticks(fontsize=12)\n",
    "plt.yticks(fontsize=12)\n",
    "plt.xlim(0,40)\n",
    "plt.ylim(15,50)\n"
   ]
  },
  {
   "cell_type": "code",
   "execution_count": 114,
   "metadata": {},
   "outputs": [
    {
     "data": {
      "text/plain": [
       "<matplotlib.axes._subplots.AxesSubplot at 0x7ff1554b6d10>"
      ]
     },
     "execution_count": 114,
     "metadata": {},
     "output_type": "execute_result"
    },
    {
     "data": {
      "image/png": "[encoded data removed]",
      "text/plain": [
       "<Figure size 432x288 with 1 Axes>"
      ]
     },
     "metadata": {
      "needs_background": "light"
     },
     "output_type": "display_data"
    }
   ],
   "source": [
    "plt.xlabel('Terms', fontsize=15)\n",
    "plt.ylabel('Principle', fontsize=15)\n",
    "plt.xticks(fontsize=13)\n",
    "plt.xlim([0,40])\n",
    "plt.ylim(200,1200)\n",
    "plt.yticks(fontsize=13)\n",
    "plt.title(\"Loan Terms vs Principal\", fontsize=15)\n",
    "sns.kdeplot(loan_df5['terms'],loan_df5['Principal'],cmap=\"plasma\", shade=True, shade_lowest=False)\n"
   ]
  },
  {
   "cell_type": "markdown",
   "metadata": {},
   "source": [
    "## Importing selected Machine Learning Algorithms"
   ]
  },
  {
   "cell_type": "code",
   "execution_count": 175,
   "metadata": {},
   "outputs": [],
   "source": [
    "from sklearn.preprocessing import StandardScaler\n",
    "from sklearn.linear_model import LogisticRegression\n",
    "from sklearn.neighbors import KNeighborsClassifier\n",
    "from sklearn.tree import DecisionTreeClassifier\n",
    "from sklearn.svm import SVC\n",
    "from sklearn.naive_bayes import GaussianNB\n"
   ]
  },
  {
   "cell_type": "code",
   "execution_count": 116,
   "metadata": {},
   "outputs": [],
   "source": [
    "from sklearn.model_selection import train_test_split\n"
   ]
  },
  {
   "cell_type": "code",
   "execution_count": 117,
   "metadata": {},
   "outputs": [],
   "source": [
    "X = loan_df5.drop(['loan_status'], axis =1)\n",
    "y = loan_df5['loan_status']\n"
   ]
  },
  {
   "cell_type": "code",
   "execution_count": 118,
   "metadata": {},
   "outputs": [],
   "source": [
    "X_train = StandardScaler().fit(X).transform(X)\n",
    "y_train = loan_df5['loan_status']"
   ]
  },
  {
   "cell_type": "code",
   "execution_count": 119,
   "metadata": {},
   "outputs": [],
   "source": [
    "X_train, X_test, y_train, y_test = train_test_split(X, y, test_size=0.3, random_state=101)"
   ]
  },
  {
   "cell_type": "code",
   "execution_count": 120,
   "metadata": {},
   "outputs": [
    {
     "name": "stdout",
     "output_type": "stream",
     "text": [
      "(280, 10)\n",
      "(280,)\n"
     ]
    }
   ],
   "source": [
    "print(X_train.shape)\n",
    "print(y_train.shape)"
   ]
  },
  {
   "cell_type": "markdown",
   "metadata": {},
   "source": [
    "## 1. Logistic Regression Model"
   ]
  },
  {
   "cell_type": "code",
   "execution_count": 121,
   "metadata": {},
   "outputs": [
    {
     "name": "stderr",
     "output_type": "stream",
     "text": [
      "/Users/ganeshnarayanan/opt/anaconda3/lib/python3.7/site-packages/sklearn/linear_model/logistic.py:432: FutureWarning: Default solver will be changed to 'lbfgs' in 0.22. Specify a solver to silence this warning.\n",
      "  FutureWarning)\n"
     ]
    },
    {
     "data": {
      "text/plain": [
       "LogisticRegression(C=1.0, class_weight=None, dual=False, fit_intercept=True,\n",
       "                   intercept_scaling=1, l1_ratio=None, max_iter=100,\n",
       "                   multi_class='warn', n_jobs=None, penalty='l2',\n",
       "                   random_state=None, solver='warn', tol=0.0001, verbose=0,\n",
       "                   warm_start=False)"
      ]
     },
     "execution_count": 121,
     "metadata": {},
     "output_type": "execute_result"
    }
   ],
   "source": [
    "logmodel = LogisticRegression()\n",
    "logmodel.fit(X_train, y_train)"
   ]
  },
  {
   "cell_type": "code",
   "execution_count": 122,
   "metadata": {},
   "outputs": [],
   "source": [
    "predictions_log = logmodel.predict(X_test)"
   ]
  },
  {
   "cell_type": "code",
   "execution_count": 123,
   "metadata": {},
   "outputs": [],
   "source": [
    "from sklearn.metrics import classification_report,confusion_matrix,jaccard_score,accuracy_score,f1_score,precision_score,recall_score"
   ]
  },
  {
   "cell_type": "code",
   "execution_count": 124,
   "metadata": {},
   "outputs": [
    {
     "name": "stdout",
     "output_type": "stream",
     "text": [
      "Classification Report Using Log Model for the Dataset is: \n",
      "\n",
      "               precision    recall  f1-score   support\n",
      "\n",
      "  COLLECTION       0.33      0.04      0.07        27\n",
      "     PAIDOFF       0.78      0.98      0.87        93\n",
      "\n",
      "    accuracy                           0.77       120\n",
      "   macro avg       0.56      0.51      0.47       120\n",
      "weighted avg       0.68      0.77      0.69       120\n",
      "\n",
      "Confusion Matrix Using Log Model for the Dataset is: \n",
      "\n",
      " [[ 1 26]\n",
      " [ 2 91]]\n"
     ]
    }
   ],
   "source": [
    "ps_log= precision_score(y_test,predictions_log,average='weighted').round(2)\n",
    "rs_log=recall_score(y_test,predictions_log,average='weighted').round(2)\n",
    "js_log=jaccard_score(y_test,predictions_log,average='weighted').round(2)\n",
    "f1s_log=f1_score(y_test,predictions_log,average='weighted').round(2)\n",
    "cr_log = classification_report(y_test, predictions_log)\n",
    "#index=['COLLECTION','PAIDOFF']\n",
    "#cr_log_df = pd.DataFrame(data=cr_log,columns= ['Precision','Recall','F1','Support'], index=index)\n",
    "#cr_log_df.to_excel('cr_log_df.xls')\n",
    "cm_log = confusion_matrix(y_test,predictions_log)\n",
    "print(\"Classification Report Using Log Model for the Dataset is:\",'\\n\\n', cr_log)\n",
    "print(\"Confusion Matrix Using Log Model for the Dataset is:\",'\\n\\n',cm_log)"
   ]
  },
  {
   "cell_type": "markdown",
   "metadata": {},
   "source": [
    "## 2. K-Nearest_Neighbors"
   ]
  },
  {
   "cell_type": "code",
   "execution_count": 125,
   "metadata": {},
   "outputs": [],
   "source": [
    "X_knn = StandardScaler().fit(X).transform(X)\n",
    "y_knn = loan_df5['loan_status']\n",
    "X_train, X_test, y_train, y_test = train_test_split(X_knn, y_knn, test_size=0.3, random_state=101)\n"
   ]
  },
  {
   "cell_type": "code",
   "execution_count": 126,
   "metadata": {},
   "outputs": [],
   "source": [
    "knn = KNeighborsClassifier(n_neighbors=1)\n"
   ]
  },
  {
   "cell_type": "code",
   "execution_count": 127,
   "metadata": {},
   "outputs": [
    {
     "data": {
      "text/plain": [
       "KNeighborsClassifier(algorithm='auto', leaf_size=30, metric='minkowski',\n",
       "                     metric_params=None, n_jobs=None, n_neighbors=1, p=2,\n",
       "                     weights='uniform')"
      ]
     },
     "execution_count": 127,
     "metadata": {},
     "output_type": "execute_result"
    }
   ],
   "source": [
    "knn.fit(X_knn, y_knn)"
   ]
  },
  {
   "cell_type": "code",
   "execution_count": 128,
   "metadata": {},
   "outputs": [],
   "source": [
    "prediction_knn = knn.predict(X_test)"
   ]
  },
  {
   "cell_type": "code",
   "execution_count": 129,
   "metadata": {},
   "outputs": [
    {
     "name": "stdout",
     "output_type": "stream",
     "text": [
      "Confusion matrix report for KNN matrix with 1 neighbor is: \n",
      "\n",
      " [[17 10]\n",
      " [ 1 92]]\n"
     ]
    }
   ],
   "source": [
    "print(\"Confusion matrix report for KNN matrix with 1 neighbor is:\",\"\\n\\n\", confusion_matrix(y_test, prediction_knn))"
   ]
  },
  {
   "cell_type": "code",
   "execution_count": 130,
   "metadata": {},
   "outputs": [
    {
     "name": "stdout",
     "output_type": "stream",
     "text": [
      "Classification report for KNN matrix with 1 neighbor is: \n",
      "\n",
      "               precision    recall  f1-score   support\n",
      "\n",
      "  COLLECTION       0.94      0.63      0.76        27\n",
      "     PAIDOFF       0.90      0.99      0.94        93\n",
      "\n",
      "    accuracy                           0.91       120\n",
      "   macro avg       0.92      0.81      0.85       120\n",
      "weighted avg       0.91      0.91      0.90       120\n",
      "\n"
     ]
    }
   ],
   "source": [
    "print(\"Classification report for KNN matrix with 1 neighbor is:\",\"\\n\\n\", classification_report(y_test, prediction_knn))"
   ]
  },
  {
   "cell_type": "markdown",
   "metadata": {},
   "source": [
    "## Optimizing the K-value to see if scores can be improved "
   ]
  },
  {
   "cell_type": "code",
   "execution_count": 131,
   "metadata": {},
   "outputs": [],
   "source": [
    "error_rate =[]\n",
    "for i in range(1,40):\n",
    "    knn = KNeighborsClassifier(n_neighbors=i)\n",
    "    knn.fit(X_knn, y_knn)\n",
    "    prediction_i = knn.predict(X_knn)\n",
    "    error_rate.append (np.mean(prediction_i != y_knn))"
   ]
  },
  {
   "cell_type": "code",
   "execution_count": 132,
   "metadata": {},
   "outputs": [
    {
     "data": {
      "text/plain": [
       "[<matplotlib.lines.Line2D at 0x7ff135dbba10>]"
      ]
     },
     "execution_count": 132,
     "metadata": {},
     "output_type": "execute_result"
    },
    {
     "data": {
      "image/png": "[encoded data removed]",
      "text/plain": [
       "<Figure size 864x576 with 1 Axes>"
      ]
     },
     "metadata": {
      "needs_background": "light"
     },
     "output_type": "display_data"
    }
   ],
   "source": [
    "plt.figure(figsize = (12,8))\n",
    "plt.xlabel(\"k-value\",fontsize=15)\n",
    "plt.ylabel(\"Error_rate\", fontsize=15)\n",
    "plt.xticks(fontsize=15)\n",
    "plt.xlim([0,40])\n",
    "plt.ylim(0.075,0.275)\n",
    "plt.yticks(fontsize=15)\n",
    "plt.title(\"Changes in Error-rates at various k-values\", fontsize=18)\n",
    "plt.plot (range(1,40), error_rate,color='blue', linestyle='-',linewidth=3, marker='*',\n",
    "         markerfacecolor='red', markersize=8)"
   ]
  },
  {
   "cell_type": "markdown",
   "metadata": {},
   "source": [
    "### Since the k-value of 1 is optimal, we will retain the profile and compute scores based on k=1"
   ]
  },
  {
   "cell_type": "code",
   "execution_count": 133,
   "metadata": {},
   "outputs": [],
   "source": [
    "ps_knn= precision_score(y_test,prediction_knn,average='weighted').round(2)\n",
    "rs_knn=recall_score(y_test,prediction_knn,average='weighted').round(2)\n",
    "js_knn=jaccard_score(y_test,prediction_knn,average='weighted').round(2)\n",
    "f1s_knn=f1_score(y_test,prediction_knn,average='weighted').round(2)\n",
    "cr_knn = classification_report(y_test, prediction_knn)\n",
    "#index=['COLLECTION','PAIDOFF']\n",
    "#cr_log_df = pd.DataFrame(data=cr_log,columns= ['Precision','Recall','F1','Support'], index=index)\n",
    "#cr_log_df.to_excel('cr_log_df.xls')\n",
    "cm_knn = confusion_matrix(y_test,prediction_knn)"
   ]
  },
  {
   "cell_type": "code",
   "execution_count": 134,
   "metadata": {},
   "outputs": [
    {
     "name": "stdout",
     "output_type": "stream",
     "text": [
      "              precision    recall  f1-score   support\n",
      "\n",
      "  COLLECTION       0.94      0.63      0.76        27\n",
      "     PAIDOFF       0.90      0.99      0.94        93\n",
      "\n",
      "    accuracy                           0.91       120\n",
      "   macro avg       0.92      0.81      0.85       120\n",
      "weighted avg       0.91      0.91      0.90       120\n",
      "\n"
     ]
    }
   ],
   "source": [
    "print(cr_knn)"
   ]
  },
  {
   "cell_type": "markdown",
   "metadata": {},
   "source": [
    "## 3. Decision Tree Model"
   ]
  },
  {
   "cell_type": "code",
   "execution_count": 135,
   "metadata": {},
   "outputs": [],
   "source": [
    "dtree = DecisionTreeClassifier()"
   ]
  },
  {
   "cell_type": "code",
   "execution_count": 136,
   "metadata": {},
   "outputs": [],
   "source": [
    "X = StandardScaler().fit(X).transform(X)\n",
    "y = loan_df5['loan_status']\n",
    "X_train, X_test, y_train, y_test = train_test_split(X, y, test_size=0.3, random_state=101)"
   ]
  },
  {
   "cell_type": "code",
   "execution_count": 137,
   "metadata": {},
   "outputs": [
    {
     "data": {
      "text/plain": [
       "DecisionTreeClassifier(class_weight=None, criterion='gini', max_depth=None,\n",
       "                       max_features=None, max_leaf_nodes=None,\n",
       "                       min_impurity_decrease=0.0, min_impurity_split=None,\n",
       "                       min_samples_leaf=1, min_samples_split=2,\n",
       "                       min_weight_fraction_leaf=0.0, presort=False,\n",
       "                       random_state=None, splitter='best')"
      ]
     },
     "execution_count": 137,
     "metadata": {},
     "output_type": "execute_result"
    }
   ],
   "source": [
    "dtree.fit(X_train, y_train)"
   ]
  },
  {
   "cell_type": "code",
   "execution_count": 138,
   "metadata": {},
   "outputs": [],
   "source": [
    "prediction_tree = dtree.predict(X_test)"
   ]
  },
  {
   "cell_type": "code",
   "execution_count": 139,
   "metadata": {},
   "outputs": [
    {
     "name": "stdout",
     "output_type": "stream",
     "text": [
      "Confusion matrix report for Decision Tree Model for this Dataset is: \n",
      "\n",
      " [[13 14]\n",
      " [25 68]]\n"
     ]
    }
   ],
   "source": [
    "print(\"Confusion matrix report for Decision Tree Model for this Dataset is:\",\"\\n\\n\", \n",
    "      confusion_matrix(y_test, prediction_tree))"
   ]
  },
  {
   "cell_type": "code",
   "execution_count": 140,
   "metadata": {},
   "outputs": [
    {
     "name": "stdout",
     "output_type": "stream",
     "text": [
      "Classification report for Decision Tree is: \n",
      "\n",
      "               precision    recall  f1-score   support\n",
      "\n",
      "  COLLECTION       0.34      0.48      0.40        27\n",
      "     PAIDOFF       0.83      0.73      0.78        93\n",
      "\n",
      "    accuracy                           0.68       120\n",
      "   macro avg       0.59      0.61      0.59       120\n",
      "weighted avg       0.72      0.68      0.69       120\n",
      "\n"
     ]
    }
   ],
   "source": [
    "print(\"Classification report for Decision Tree is:\",\"\\n\\n\", \n",
    "      classification_report(y_test, prediction_tree))"
   ]
  },
  {
   "cell_type": "code",
   "execution_count": 141,
   "metadata": {},
   "outputs": [],
   "source": [
    "ps_tree= precision_score(y_test,prediction_tree,average='weighted').round(2)\n",
    "rs_tree=recall_score(y_test,prediction_tree,average='weighted').round(2)\n",
    "js_tree=jaccard_score(y_test,prediction_tree,average='weighted').round(2)\n",
    "f1s_tree=f1_score(y_test,prediction_tree,average='weighted').round(2)\n",
    "cr_tree = classification_report(y_test, prediction_tree)\n",
    "#index=['COLLECTION','PAIDOFF']\n",
    "#cr_log_df = pd.DataFrame(data=cr_log,columns= ['Precision','Recall','F1','Support'], index=index)\n",
    "#cr_log_df.to_excel('cr_log_df.xls')\n",
    "cm_tree = confusion_matrix(y_test,prediction_tree)"
   ]
  },
  {
   "cell_type": "code",
   "execution_count": 142,
   "metadata": {},
   "outputs": [
    {
     "name": "stdout",
     "output_type": "stream",
     "text": [
      "0.72 0.68 0.55 0.69\n"
     ]
    }
   ],
   "source": [
    "print(ps_tree,rs_tree,js_tree,f1s_tree)"
   ]
  },
  {
   "cell_type": "code",
   "execution_count": 143,
   "metadata": {},
   "outputs": [
    {
     "name": "stdout",
     "output_type": "stream",
     "text": [
      "Requirement already satisfied: mlxtend in /Users/ganeshnarayanan/opt/anaconda3/lib/python3.7/site-packages (0.18.0)\n",
      "Requirement already satisfied: scipy>=1.2.1 in /Users/ganeshnarayanan/opt/anaconda3/lib/python3.7/site-packages (from mlxtend) (1.5.4)\n",
      "Requirement already satisfied: joblib>=0.13.2 in /Users/ganeshnarayanan/opt/anaconda3/lib/python3.7/site-packages (from mlxtend) (0.13.2)\n",
      "Requirement already satisfied: matplotlib>=3.0.0 in /Users/ganeshnarayanan/opt/anaconda3/lib/python3.7/site-packages (from mlxtend) (3.3.2)\n",
      "Requirement already satisfied: scikit-learn>=0.20.3 in /Users/ganeshnarayanan/opt/anaconda3/lib/python3.7/site-packages (from mlxtend) (0.21.3)\n",
      "Requirement already satisfied: numpy>=1.16.2 in /Users/ganeshnarayanan/opt/anaconda3/lib/python3.7/site-packages (from mlxtend) (1.17.2)\n",
      "Requirement already satisfied: setuptools in /Users/ganeshnarayanan/opt/anaconda3/lib/python3.7/site-packages (from mlxtend) (41.4.0)\n",
      "Requirement already satisfied: pandas>=0.24.2 in /Users/ganeshnarayanan/opt/anaconda3/lib/python3.7/site-packages (from mlxtend) (1.1.4)\n",
      "Requirement already satisfied: certifi>=2020.06.20 in /Users/ganeshnarayanan/opt/anaconda3/lib/python3.7/site-packages (from matplotlib>=3.0.0->mlxtend) (2020.11.8)\n",
      "Requirement already satisfied: cycler>=0.10 in /Users/ganeshnarayanan/opt/anaconda3/lib/python3.7/site-packages (from matplotlib>=3.0.0->mlxtend) (0.10.0)\n",
      "Requirement already satisfied: kiwisolver>=1.0.1 in /Users/ganeshnarayanan/opt/anaconda3/lib/python3.7/site-packages (from matplotlib>=3.0.0->mlxtend) (1.1.0)\n",
      "Requirement already satisfied: python-dateutil>=2.1 in /Users/ganeshnarayanan/opt/anaconda3/lib/python3.7/site-packages (from matplotlib>=3.0.0->mlxtend) (2.8.0)\n",
      "Requirement already satisfied: pillow>=6.2.0 in /Users/ganeshnarayanan/opt/anaconda3/lib/python3.7/site-packages (from matplotlib>=3.0.0->mlxtend) (6.2.0)\n",
      "Requirement already satisfied: pyparsing!=2.0.4,!=2.1.2,!=2.1.6,>=2.0.3 in /Users/ganeshnarayanan/opt/anaconda3/lib/python3.7/site-packages (from matplotlib>=3.0.0->mlxtend) (2.4.2)\n",
      "Requirement already satisfied: pytz>=2017.2 in /Users/ganeshnarayanan/opt/anaconda3/lib/python3.7/site-packages (from pandas>=0.24.2->mlxtend) (2019.3)\n",
      "Requirement already satisfied: six in /Users/ganeshnarayanan/opt/anaconda3/lib/python3.7/site-packages (from cycler>=0.10->matplotlib>=3.0.0->mlxtend) (1.12.0)\n"
     ]
    }
   ],
   "source": [
    "!pip install mlxtend"
   ]
  },
  {
   "cell_type": "code",
   "execution_count": 144,
   "metadata": {},
   "outputs": [],
   "source": [
    "#y_trnos = y_tree.astype(np.integer)\n",
    "#y_tnnos = prediction_tree.astype(np.integer)"
   ]
  },
  {
   "cell_type": "code",
   "execution_count": 145,
   "metadata": {},
   "outputs": [],
   "source": [
    "#from mlxtend.plotting import plot_decision_regions\n",
    "\n",
    "#clf_tree = DecisionTreeClassifier(criterion='gini', max_depth=4, random_state=1)\n",
    "#clf_tree.fit(X_train, y_train)\n",
    "#X_combined = np.vstack((X_train, X_test))\n",
    "#y_combined = np.hstack((y_trnos, y_tnnos))\n",
    "#fig, ax = plt.subplots(figsize=(7, 7))\n",
    "#plot_decision_regions(X_combined, y_combined, clf=clf_tree)\n",
    "#plt.xlabel('petal length [cm]')\n",
    "#plt.ylabel('petal width [cm]')\n",
    "#plt.legend(loc='upper left')\n",
    "#plt.tight_layout()\n",
    "#plt.show()"
   ]
  },
  {
   "cell_type": "markdown",
   "metadata": {},
   "source": [
    "# 4. Random Forest Classifier"
   ]
  },
  {
   "cell_type": "code",
   "execution_count": 146,
   "metadata": {},
   "outputs": [],
   "source": [
    "from sklearn.ensemble import RandomForestClassifier\n",
    "rfc = RandomForestClassifier(criterion='gini',n_estimators=10,verbose=3)"
   ]
  },
  {
   "cell_type": "code",
   "execution_count": 147,
   "metadata": {},
   "outputs": [],
   "source": [
    "X = StandardScaler().fit(X).transform(X)\n",
    "y = loan_df5['loan_status']\n",
    "X_train, X_test, y_train, y_test = train_test_split(X, y, test_size=0.3, random_state=101)"
   ]
  },
  {
   "cell_type": "code",
   "execution_count": 148,
   "metadata": {},
   "outputs": [
    {
     "name": "stdout",
     "output_type": "stream",
     "text": [
      "building tree 1 of 10\n",
      "building tree 2 of 10\n",
      "building tree 3 of 10\n",
      "building tree 4 of 10\n",
      "building tree 5 of 10\n",
      "building tree 6 of 10\n",
      "building tree 7 of 10\n",
      "building tree 8 of 10\n",
      "building tree 9 of 10\n",
      "building tree 10 of 10\n"
     ]
    },
    {
     "name": "stderr",
     "output_type": "stream",
     "text": [
      "[Parallel(n_jobs=1)]: Using backend SequentialBackend with 1 concurrent workers.\n",
      "[Parallel(n_jobs=1)]: Done   1 out of   1 | elapsed:    0.0s remaining:    0.0s\n",
      "[Parallel(n_jobs=1)]: Done   2 out of   2 | elapsed:    0.0s remaining:    0.0s\n",
      "[Parallel(n_jobs=1)]: Done  10 out of  10 | elapsed:    0.0s finished\n"
     ]
    },
    {
     "data": {
      "text/plain": [
       "RandomForestClassifier(bootstrap=True, class_weight=None, criterion='gini',\n",
       "                       max_depth=None, max_features='auto', max_leaf_nodes=None,\n",
       "                       min_impurity_decrease=0.0, min_impurity_split=None,\n",
       "                       min_samples_leaf=1, min_samples_split=2,\n",
       "                       min_weight_fraction_leaf=0.0, n_estimators=10,\n",
       "                       n_jobs=None, oob_score=False, random_state=None,\n",
       "                       verbose=3, warm_start=False)"
      ]
     },
     "execution_count": 148,
     "metadata": {},
     "output_type": "execute_result"
    }
   ],
   "source": [
    "rfc.fit(X,y)"
   ]
  },
  {
   "cell_type": "code",
   "execution_count": 149,
   "metadata": {},
   "outputs": [
    {
     "name": "stderr",
     "output_type": "stream",
     "text": [
      "[Parallel(n_jobs=1)]: Using backend SequentialBackend with 1 concurrent workers.\n",
      "[Parallel(n_jobs=1)]: Done   1 out of   1 | elapsed:    0.0s remaining:    0.0s\n",
      "[Parallel(n_jobs=1)]: Done   2 out of   2 | elapsed:    0.0s remaining:    0.0s\n",
      "[Parallel(n_jobs=1)]: Done  10 out of  10 | elapsed:    0.0s finished\n"
     ]
    }
   ],
   "source": [
    "prediction_rfc=rfc.predict(X_test)"
   ]
  },
  {
   "cell_type": "code",
   "execution_count": 150,
   "metadata": {},
   "outputs": [
    {
     "name": "stdout",
     "output_type": "stream",
     "text": [
      "              precision    recall  f1-score   support\n",
      "\n",
      "  COLLECTION       0.90      0.70      0.79        27\n",
      "     PAIDOFF       0.92      0.98      0.95        93\n",
      "\n",
      "    accuracy                           0.92       120\n",
      "   macro avg       0.91      0.84      0.87       120\n",
      "weighted avg       0.92      0.92      0.91       120\n",
      "\n"
     ]
    }
   ],
   "source": [
    "print(classification_report(y_test,prediction_rfc))"
   ]
  },
  {
   "cell_type": "code",
   "execution_count": 151,
   "metadata": {},
   "outputs": [
    {
     "name": "stdout",
     "output_type": "stream",
     "text": [
      "[[19  8]\n",
      " [ 2 91]]\n"
     ]
    }
   ],
   "source": [
    "print(confusion_matrix(y_test, prediction_rfc))"
   ]
  },
  {
   "cell_type": "code",
   "execution_count": 152,
   "metadata": {},
   "outputs": [],
   "source": [
    "ps_rfc= precision_score(y_test,prediction_rfc,average='weighted').round(2)\n",
    "rs_rfc=recall_score(y_test,prediction_rfc,average='weighted').round(2)\n",
    "js_rfc=jaccard_score(y_test,prediction_rfc,average='weighted').round(2)\n",
    "f1s_rfc=f1_score(y_test,prediction_rfc,average='weighted').round(2)\n",
    "cr_rfc = classification_report(y_test, prediction_rfc)\n",
    "#index=['COLLECTION','PAIDOFF']\n",
    "#cr_log_df = pd.DataFrame(data=cr_log,columns= ['Precision','Recall','F1','Support'], index=index)\n",
    "#cr_log_df.to_excel('cr_log_df.xls')\n",
    "cm_rfc = confusion_matrix(y_test,prediction_rfc)"
   ]
  },
  {
   "cell_type": "markdown",
   "metadata": {},
   "source": [
    "# 5. Support Vector Machine"
   ]
  },
  {
   "cell_type": "raw",
   "metadata": {},
   "source": [
    "svc_model = SVC(kernel='rbf',degree=3)"
   ]
  },
  {
   "cell_type": "code",
   "execution_count": 154,
   "metadata": {},
   "outputs": [
    {
     "name": "stderr",
     "output_type": "stream",
     "text": [
      "/Users/ganeshnarayanan/opt/anaconda3/lib/python3.7/site-packages/sklearn/svm/base.py:193: FutureWarning: The default value of gamma will change from 'auto' to 'scale' in version 0.22 to account better for unscaled features. Set gamma explicitly to 'auto' or 'scale' to avoid this warning.\n",
      "  \"avoid this warning.\", FutureWarning)\n"
     ]
    },
    {
     "data": {
      "text/plain": [
       "SVC(C=1.0, cache_size=200, class_weight=None, coef0=0.0,\n",
       "    decision_function_shape='ovr', degree=3, gamma='auto_deprecated',\n",
       "    kernel='rbf', max_iter=-1, probability=False, random_state=None,\n",
       "    shrinking=True, tol=0.001, verbose=False)"
      ]
     },
     "execution_count": 154,
     "metadata": {},
     "output_type": "execute_result"
    }
   ],
   "source": [
    "svc_model.fit(X_train,y_train)"
   ]
  },
  {
   "cell_type": "code",
   "execution_count": 155,
   "metadata": {},
   "outputs": [],
   "source": [
    "predictions_svc = svc_model.predict(X_test)"
   ]
  },
  {
   "cell_type": "code",
   "execution_count": 156,
   "metadata": {},
   "outputs": [
    {
     "name": "stdout",
     "output_type": "stream",
     "text": [
      "[[ 0 27]\n",
      " [ 5 88]]\n"
     ]
    }
   ],
   "source": [
    "print(confusion_matrix(y_test,predictions_svc))"
   ]
  },
  {
   "cell_type": "code",
   "execution_count": 157,
   "metadata": {},
   "outputs": [
    {
     "name": "stdout",
     "output_type": "stream",
     "text": [
      "              precision    recall  f1-score   support\n",
      "\n",
      "  COLLECTION       0.00      0.00      0.00        27\n",
      "     PAIDOFF       0.77      0.95      0.85        93\n",
      "\n",
      "    accuracy                           0.73       120\n",
      "   macro avg       0.38      0.47      0.42       120\n",
      "weighted avg       0.59      0.73      0.66       120\n",
      "\n"
     ]
    }
   ],
   "source": [
    "print(classification_report(y_test,predictions_svc))"
   ]
  },
  {
   "cell_type": "code",
   "execution_count": 158,
   "metadata": {},
   "outputs": [],
   "source": [
    "from sklearn.model_selection import GridSearchCV"
   ]
  },
  {
   "cell_type": "code",
   "execution_count": 159,
   "metadata": {},
   "outputs": [
    {
     "name": "stderr",
     "output_type": "stream",
     "text": [
      "/Users/ganeshnarayanan/opt/anaconda3/lib/python3.7/site-packages/sklearn/model_selection/_split.py:1978: FutureWarning: The default value of cv will change from 3 to 5 in version 0.22. Specify it explicitly to silence this warning.\n",
      "  warnings.warn(CV_WARNING, FutureWarning)\n",
      "[Parallel(n_jobs=1)]: Using backend SequentialBackend with 1 concurrent workers.\n",
      "[Parallel(n_jobs=1)]: Done   1 out of   1 | elapsed:    0.0s remaining:    0.0s\n"
     ]
    },
    {
     "name": "stdout",
     "output_type": "stream",
     "text": [
      "Fitting 3 folds for each of 16 candidates, totalling 48 fits\n",
      "[CV] C=0.1, gamma=1 ..................................................\n",
      "[CV] ................................... C=0.1, gamma=1, total=   0.0s\n",
      "[CV] C=0.1, gamma=1 ..................................................\n",
      "[CV] ................................... C=0.1, gamma=1, total=   0.0s\n",
      "[CV] C=0.1, gamma=1 ..................................................\n",
      "[CV] ................................... C=0.1, gamma=1, total=   0.0s\n",
      "[CV] C=0.1, gamma=0.1 ................................................\n",
      "[CV] ................................. C=0.1, gamma=0.1, total=   0.0s\n",
      "[CV] C=0.1, gamma=0.1 ................................................\n",
      "[CV] ................................. C=0.1, gamma=0.1, total=   0.0s\n",
      "[CV] C=0.1, gamma=0.1 ................................................\n",
      "[CV] ................................. C=0.1, gamma=0.1, total=   0.0s\n",
      "[CV] C=0.1, gamma=0.01 ...............................................\n",
      "[CV] ................................ C=0.1, gamma=0.01, total=   0.0s\n",
      "[CV] C=0.1, gamma=0.01 ...............................................\n",
      "[CV] ................................ C=0.1, gamma=0.01, total=   0.0s\n",
      "[CV] C=0.1, gamma=0.01 ...............................................\n",
      "[CV] ................................ C=0.1, gamma=0.01, total=   0.0s\n",
      "[CV] C=0.1, gamma=0.001 ..............................................\n",
      "[CV] ............................... C=0.1, gamma=0.001, total=   0.0s\n",
      "[CV] C=0.1, gamma=0.001 ..............................................\n",
      "[CV] ............................... C=0.1, gamma=0.001, total=   0.0s\n",
      "[CV] C=0.1, gamma=0.001 ..............................................\n",
      "[CV] ............................... C=0.1, gamma=0.001, total=   0.0s\n",
      "[CV] C=1, gamma=1 ....................................................\n",
      "[CV] ..................................... C=1, gamma=1, total=   0.0s\n",
      "[CV] C=1, gamma=1 ....................................................\n",
      "[CV] ..................................... C=1, gamma=1, total=   0.0s\n",
      "[CV] C=1, gamma=1 ....................................................\n",
      "[CV] ..................................... C=1, gamma=1, total=   0.0s\n",
      "[CV] C=1, gamma=0.1 ..................................................\n",
      "[CV] ................................... C=1, gamma=0.1, total=   0.0s\n",
      "[CV] C=1, gamma=0.1 ..................................................\n",
      "[CV] ................................... C=1, gamma=0.1, total=   0.0s\n",
      "[CV] C=1, gamma=0.1 ..................................................\n",
      "[CV] ................................... C=1, gamma=0.1, total=   0.0s\n",
      "[CV] C=1, gamma=0.01 .................................................\n",
      "[CV] .................................. C=1, gamma=0.01, total=   0.0s\n",
      "[CV] C=1, gamma=0.01 .................................................\n",
      "[CV] .................................. C=1, gamma=0.01, total=   0.0s\n",
      "[CV] C=1, gamma=0.01 .................................................\n",
      "[CV] .................................. C=1, gamma=0.01, total=   0.0s\n",
      "[CV] C=1, gamma=0.001 ................................................\n",
      "[CV] ................................. C=1, gamma=0.001, total=   0.0s\n",
      "[CV] C=1, gamma=0.001 ................................................\n",
      "[CV] ................................. C=1, gamma=0.001, total=   0.0s\n",
      "[CV] C=1, gamma=0.001 ................................................\n",
      "[CV] ................................. C=1, gamma=0.001, total=   0.0s\n",
      "[CV] C=10, gamma=1 ...................................................\n",
      "[CV] .................................... C=10, gamma=1, total=   0.0s\n",
      "[CV] C=10, gamma=1 ...................................................\n",
      "[CV] .................................... C=10, gamma=1, total=   0.0s\n",
      "[CV] C=10, gamma=1 ...................................................\n",
      "[CV] .................................... C=10, gamma=1, total=   0.0s\n",
      "[CV] C=10, gamma=0.1 .................................................\n",
      "[CV] .................................. C=10, gamma=0.1, total=   0.0s\n",
      "[CV] C=10, gamma=0.1 .................................................\n",
      "[CV] .................................. C=10, gamma=0.1, total=   0.0s\n",
      "[CV] C=10, gamma=0.1 .................................................\n",
      "[CV] .................................. C=10, gamma=0.1, total=   0.0s\n",
      "[CV] C=10, gamma=0.01 ................................................\n",
      "[CV] ................................. C=10, gamma=0.01, total=   0.0s\n",
      "[CV] C=10, gamma=0.01 ................................................\n",
      "[CV] ................................. C=10, gamma=0.01, total=   0.0s\n",
      "[CV] C=10, gamma=0.01 ................................................\n",
      "[CV] ................................. C=10, gamma=0.01, total=   0.0s\n",
      "[CV] C=10, gamma=0.001 ...............................................\n",
      "[CV] ................................ C=10, gamma=0.001, total=   0.0s\n",
      "[CV] C=10, gamma=0.001 ...............................................\n",
      "[CV] ................................ C=10, gamma=0.001, total=   0.0s\n",
      "[CV] C=10, gamma=0.001 ...............................................\n",
      "[CV] ................................ C=10, gamma=0.001, total=   0.0s\n",
      "[CV] C=100, gamma=1 ..................................................\n",
      "[CV] ................................... C=100, gamma=1, total=   0.0s\n",
      "[CV] C=100, gamma=1 ..................................................\n",
      "[CV] ................................... C=100, gamma=1, total=   0.0s\n",
      "[CV] C=100, gamma=1 ..................................................\n",
      "[CV] ................................... C=100, gamma=1, total=   0.0s\n",
      "[CV] C=100, gamma=0.1 ................................................\n",
      "[CV] ................................. C=100, gamma=0.1, total=   0.0s\n",
      "[CV] C=100, gamma=0.1 ................................................\n",
      "[CV] ................................. C=100, gamma=0.1, total=   0.0s\n",
      "[CV] C=100, gamma=0.1 ................................................\n",
      "[CV] ................................. C=100, gamma=0.1, total=   0.0s\n",
      "[CV] C=100, gamma=0.01 ...............................................\n",
      "[CV] ................................ C=100, gamma=0.01, total=   0.0s\n",
      "[CV] C=100, gamma=0.01 ...............................................\n",
      "[CV] ................................ C=100, gamma=0.01, total=   0.0s\n",
      "[CV] C=100, gamma=0.01 ...............................................\n",
      "[CV] ................................ C=100, gamma=0.01, total=   0.0s\n",
      "[CV] C=100, gamma=0.001 ..............................................\n",
      "[CV] ............................... C=100, gamma=0.001, total=   0.0s\n",
      "[CV] C=100, gamma=0.001 ..............................................\n",
      "[CV] ............................... C=100, gamma=0.001, total=   0.0s\n",
      "[CV] C=100, gamma=0.001 ..............................................\n",
      "[CV] ............................... C=100, gamma=0.001, total=   0.0s\n"
     ]
    },
    {
     "name": "stderr",
     "output_type": "stream",
     "text": [
      "[Parallel(n_jobs=1)]: Done  48 out of  48 | elapsed:    0.2s finished\n",
      "/Users/ganeshnarayanan/opt/anaconda3/lib/python3.7/site-packages/sklearn/model_selection/_search.py:814: DeprecationWarning: The default of the `iid` parameter will change from True to False in version 0.22 and will be removed in 0.24. This will change numeric results when test-set sizes are unequal.\n",
      "  DeprecationWarning)\n"
     ]
    },
    {
     "data": {
      "text/plain": [
       "GridSearchCV(cv='warn', error_score='raise-deprecating',\n",
       "             estimator=SVC(C=1.0, cache_size=200, class_weight=None, coef0=0.0,\n",
       "                           decision_function_shape='ovr', degree=3,\n",
       "                           gamma='auto_deprecated', kernel='rbf', max_iter=-1,\n",
       "                           probability=False, random_state=None, shrinking=True,\n",
       "                           tol=0.001, verbose=False),\n",
       "             iid='warn', n_jobs=None,\n",
       "             param_grid={'C': [0.1, 1, 10, 100],\n",
       "                         'gamma': [1, 0.1, 0.01, 0.001]},\n",
       "             pre_dispatch='2*n_jobs', refit=True, return_train_score=False,\n",
       "             scoring=None, verbose=2)"
      ]
     },
     "execution_count": 159,
     "metadata": {},
     "output_type": "execute_result"
    }
   ],
   "source": [
    "param_grid = {'C': [0.1,1, 10, 100], 'gamma': [1,0.1,0.01,0.001]} \n",
    "grid = GridSearchCV(SVC(),param_grid,refit=True,verbose=2)\n",
    "grid.fit(X_train,y_train)"
   ]
  },
  {
   "cell_type": "code",
   "execution_count": 84,
   "metadata": {},
   "outputs": [],
   "source": [
    "ps_svc= precision_score(y_test,predictions_svc,average='weighted').round(2)\n",
    "rs_svc=recall_score(y_test,predictions_svc,average='weighted').round(2)\n",
    "js_svc=jaccard_score(y_test,predictions_svc,average='weighted').round(2)\n",
    "f1s_svc=f1_score(y_test,predictions_svc,average='weighted').round(2)\n",
    "cr_svc = classification_report(y_test, predictions_svc)\n",
    "#index=['COLLECTION','PAIDOFF']\n",
    "#cr_log_df = pd.DataFrame(data=cr_log,columns= ['Precision','Recall','F1','Support'], index=index)\n",
    "#cr_log_df.to_excel('cr_log_df.xls')\n",
    "cm_svc = confusion_matrix(y_test,predictions_svc)"
   ]
  },
  {
   "cell_type": "markdown",
   "metadata": {},
   "source": [
    "# 6. Naive Bayes Classifier Algorithm"
   ]
  },
  {
   "cell_type": "code",
   "execution_count": 176,
   "metadata": {},
   "outputs": [],
   "source": [
    "Bayes_model = GaussianNB(priors=None, var_smoothing=1e-09)"
   ]
  },
  {
   "cell_type": "code",
   "execution_count": 177,
   "metadata": {},
   "outputs": [
    {
     "data": {
      "text/plain": [
       "GaussianNB(priors=None, var_smoothing=1e-09)"
      ]
     },
     "execution_count": 177,
     "metadata": {},
     "output_type": "execute_result"
    }
   ],
   "source": [
    "Bayes_model.fit(X_train,y_train)"
   ]
  },
  {
   "cell_type": "code",
   "execution_count": 178,
   "metadata": {},
   "outputs": [],
   "source": [
    "predictions_Bayes= Bayes_model.predict(X_test)"
   ]
  },
  {
   "cell_type": "code",
   "execution_count": 179,
   "metadata": {},
   "outputs": [
    {
     "name": "stdout",
     "output_type": "stream",
     "text": [
      "[[ 6 21]\n",
      " [ 8 85]]\n"
     ]
    }
   ],
   "source": [
    "print(confusion_matrix(y_test,predictions_Bayes))"
   ]
  },
  {
   "cell_type": "code",
   "execution_count": 180,
   "metadata": {},
   "outputs": [
    {
     "name": "stdout",
     "output_type": "stream",
     "text": [
      "              precision    recall  f1-score   support\n",
      "\n",
      "  COLLECTION       0.43      0.22      0.29        27\n",
      "     PAIDOFF       0.80      0.91      0.85        93\n",
      "\n",
      "    accuracy                           0.76       120\n",
      "   macro avg       0.62      0.57      0.57       120\n",
      "weighted avg       0.72      0.76      0.73       120\n",
      "\n"
     ]
    }
   ],
   "source": [
    "print(classification_report(y_test,predictions_Bayes))"
   ]
  },
  {
   "cell_type": "code",
   "execution_count": 181,
   "metadata": {},
   "outputs": [],
   "source": [
    "ps_Bayes= precision_score(y_test,predictions_Bayes,average='weighted').round(2)\n",
    "rs_Bayes =recall_score(y_test,predictions_Bayes,average='weighted').round(2)\n",
    "js_Bayes =jaccard_score(y_test,predictions_Bayes,average='weighted').round(2)\n",
    "f1s_Bayes=f1_score(y_test,predictions_Bayes,average='weighted').round(2)\n",
    "cr_Bayes = classification_report(y_test, predictions_Bayes)\n",
    "#index=['COLLECTION','PAIDOFF']\n",
    "#cr_log_df = pd.DataFrame(data=cr_log,columns= ['Precision','Recall','F1','Support'], index=index)\n",
    "#cr_log_df.to_excel('cr_log_df.xls')\n",
    "cm_Bayes = confusion_matrix(y_test,predictions_Bayes)"
   ]
  },
  {
   "cell_type": "markdown",
   "metadata": {},
   "source": [
    "#       Summary"
   ]
  },
  {
   "cell_type": "code",
   "execution_count": 163,
   "metadata": {},
   "outputs": [],
   "source": [
    "summary_ps = {'Precision Score':[ps_log,ps_knn,ps_tree,ps_rfc,ps_svc,ps_Bayes]}"
   ]
  },
  {
   "cell_type": "code",
   "execution_count": 165,
   "metadata": {},
   "outputs": [],
   "source": [
    "summary_rs = {'Recall Score':[rs_log,rs_knn,rs_tree,rs_rfc,rs_svc,rs_Bayes]}"
   ]
  },
  {
   "cell_type": "code",
   "execution_count": 166,
   "metadata": {},
   "outputs": [],
   "source": [
    "summary_js = {'Jaccard Score':[js_log,js_knn,js_tree,js_rfc,js_svc,js_Bayes]}"
   ]
  },
  {
   "cell_type": "code",
   "execution_count": 182,
   "metadata": {},
   "outputs": [],
   "source": [
    "summary_f1s = {'F1s':[f1s_log,f1s_knn,f1s_tree,f1s_rfc,f1s_svc,f1s_Bayes]}"
   ]
  },
  {
   "cell_type": "code",
   "execution_count": 183,
   "metadata": {},
   "outputs": [],
   "source": [
    "summary_scores = {'Precision Score':[ps_log,ps_knn,ps_tree,ps_rfc,ps_svc,ps_Bayes],'Recall Score':[rs_log,rs_knn,rs_tree,rs_rfc,rs_svc,rs_Bayes],\n",
    "                 'Jaccard Score':[js_log,js_knn,js_tree,js_rfc,js_svc,js_Bayes],'F1s':[f1s_log,f1s_knn,f1s_tree,f1s_rfc,f1s_svc,f1s_Bayes]}"
   ]
  },
  {
   "cell_type": "code",
   "execution_count": 193,
   "metadata": {},
   "outputs": [],
   "source": [
    "index=['Logistic_Regression','knn','Decision_Tree','Random_Classifier','Support_Vector_Machine','Naive Bayesian']\n",
    "Data_Metric_Report = pd.DataFrame(summary_scores,index=index)"
   ]
  },
  {
   "cell_type": "code",
   "execution_count": 186,
   "metadata": {},
   "outputs": [],
   "source": [
    "Data_Metric_Report.to_csv('Data_Metric_Report.csv')"
   ]
  },
  {
   "cell_type": "markdown",
   "metadata": {},
   "source": [
    "# Data Visualization of Metric Scores"
   ]
  },
  {
   "cell_type": "code",
   "execution_count": 194,
   "metadata": {},
   "outputs": [
    {
     "data": {
      "text/html": [
       "<div>\n",
       "<style scoped>\n",
       "    .dataframe tbody tr th:only-of-type {\n",
       "        vertical-align: middle;\n",
       "    }\n",
       "\n",
       "    .dataframe tbody tr th {\n",
       "        vertical-align: top;\n",
       "    }\n",
       "\n",
       "    .dataframe thead th {\n",
       "        text-align: right;\n",
       "    }\n",
       "</style>\n",
       "<table border=\"1\" class=\"dataframe\">\n",
       "  <thead>\n",
       "    <tr style=\"text-align: right;\">\n",
       "      <th></th>\n",
       "      <th>Precision Score</th>\n",
       "      <th>Recall Score</th>\n",
       "      <th>Jaccard Score</th>\n",
       "      <th>F1s</th>\n",
       "    </tr>\n",
       "  </thead>\n",
       "  <tbody>\n",
       "    <tr>\n",
       "      <th>Logistic_Regression</th>\n",
       "      <td>0.68</td>\n",
       "      <td>0.77</td>\n",
       "      <td>0.60</td>\n",
       "      <td>0.69</td>\n",
       "    </tr>\n",
       "    <tr>\n",
       "      <th>knn</th>\n",
       "      <td>0.91</td>\n",
       "      <td>0.91</td>\n",
       "      <td>0.83</td>\n",
       "      <td>0.90</td>\n",
       "    </tr>\n",
       "    <tr>\n",
       "      <th>Decision_Tree</th>\n",
       "      <td>0.72</td>\n",
       "      <td>0.68</td>\n",
       "      <td>0.55</td>\n",
       "      <td>0.69</td>\n",
       "    </tr>\n",
       "    <tr>\n",
       "      <th>Random_Classifier</th>\n",
       "      <td>0.92</td>\n",
       "      <td>0.92</td>\n",
       "      <td>0.85</td>\n",
       "      <td>0.91</td>\n",
       "    </tr>\n",
       "    <tr>\n",
       "      <th>Support_Vector_Machine</th>\n",
       "      <td>0.59</td>\n",
       "      <td>0.73</td>\n",
       "      <td>0.57</td>\n",
       "      <td>0.66</td>\n",
       "    </tr>\n",
       "  </tbody>\n",
       "</table>\n",
       "</div>"
      ],
      "text/plain": [
       "                        Precision Score  Recall Score  Jaccard Score   F1s\n",
       "Logistic_Regression                0.68          0.77           0.60  0.69\n",
       "knn                                0.91          0.91           0.83  0.90\n",
       "Decision_Tree                      0.72          0.68           0.55  0.69\n",
       "Random_Classifier                  0.92          0.92           0.85  0.91\n",
       "Support_Vector_Machine             0.59          0.73           0.57  0.66"
      ]
     },
     "execution_count": 194,
     "metadata": {},
     "output_type": "execute_result"
    }
   ],
   "source": [
    "Data_Metric_Report.head()"
   ]
  },
  {
   "cell_type": "code",
   "execution_count": 229,
   "metadata": {},
   "outputs": [
    {
     "name": "stdout",
     "output_type": "stream",
     "text": [
      "Collecting dataframe_image\n",
      "  Downloading https://files.pythonhosted.org/packages/75/ce/8b9f506ecf5b177471e0f04117565b6eaf83f13749deca3d3b35f52f9fd6/dataframe_image-0.1.1-py3-none-any.whl\n",
      "Requirement already satisfied: beautifulsoup4 in /Users/ganeshnarayanan/opt/anaconda3/lib/python3.7/site-packages (from dataframe_image) (4.8.0)\n",
      "Requirement already satisfied: pandas>=0.24 in /Users/ganeshnarayanan/opt/anaconda3/lib/python3.7/site-packages (from dataframe_image) (1.1.4)\n",
      "Collecting aiohttp (from dataframe_image)\n",
      "\u001b[?25l  Downloading https://files.pythonhosted.org/packages/88/1c/e218f60640e3eaad172f5e728713752401ee345c516f8b783b9e4d20ef44/aiohttp-3.7.3-cp37-cp37m-macosx_10_14_x86_64.whl (643kB)\n",
      "\u001b[K     |████████████████████████████████| 645kB 2.5MB/s eta 0:00:01\n",
      "\u001b[?25hRequirement already satisfied: matplotlib>=3.1 in /Users/ganeshnarayanan/opt/anaconda3/lib/python3.7/site-packages (from dataframe_image) (3.3.2)\n",
      "Requirement already satisfied: requests in /Users/ganeshnarayanan/opt/anaconda3/lib/python3.7/site-packages (from dataframe_image) (2.22.0)\n",
      "Requirement already satisfied: nbconvert>=5 in /Users/ganeshnarayanan/opt/anaconda3/lib/python3.7/site-packages (from dataframe_image) (5.6.0)\n",
      "Requirement already satisfied: soupsieve>=1.2 in /Users/ganeshnarayanan/opt/anaconda3/lib/python3.7/site-packages (from beautifulsoup4->dataframe_image) (1.9.3)\n",
      "Requirement already satisfied: python-dateutil>=2.7.3 in /Users/ganeshnarayanan/opt/anaconda3/lib/python3.7/site-packages (from pandas>=0.24->dataframe_image) (2.8.0)\n",
      "Requirement already satisfied: pytz>=2017.2 in /Users/ganeshnarayanan/opt/anaconda3/lib/python3.7/site-packages (from pandas>=0.24->dataframe_image) (2019.3)\n",
      "Requirement already satisfied: numpy>=1.15.4 in /Users/ganeshnarayanan/opt/anaconda3/lib/python3.7/site-packages (from pandas>=0.24->dataframe_image) (1.17.2)\n",
      "Collecting yarl<2.0,>=1.0 (from aiohttp->dataframe_image)\n",
      "\u001b[?25l  Downloading https://files.pythonhosted.org/packages/1d/89/dc936cc5bcb25aa43620f9291f9728c6300213bbfae1b3a18fd9f0aa71c1/yarl-1.6.3-cp37-cp37m-macosx_10_14_x86_64.whl (123kB)\n",
      "\u001b[K     |████████████████████████████████| 133kB 193kB/s eta 0:00:01\n",
      "\u001b[?25hCollecting async-timeout<4.0,>=3.0 (from aiohttp->dataframe_image)\n",
      "  Downloading https://files.pythonhosted.org/packages/e1/1e/5a4441be21b0726c4464f3f23c8b19628372f606755a9d2e46c187e65ec4/async_timeout-3.0.1-py3-none-any.whl\n",
      "Collecting typing-extensions>=3.6.5 (from aiohttp->dataframe_image)\n",
      "  Downloading https://files.pythonhosted.org/packages/60/7a/e881b5abb54db0e6e671ab088d079c57ce54e8a01a3ca443f561ccadb37e/typing_extensions-3.7.4.3-py3-none-any.whl\n",
      "Requirement already satisfied: chardet<4.0,>=2.0 in /Users/ganeshnarayanan/opt/anaconda3/lib/python3.7/site-packages (from aiohttp->dataframe_image) (3.0.4)\n",
      "Requirement already satisfied: attrs>=17.3.0 in /Users/ganeshnarayanan/opt/anaconda3/lib/python3.7/site-packages (from aiohttp->dataframe_image) (19.2.0)\n",
      "Collecting multidict<7.0,>=4.5 (from aiohttp->dataframe_image)\n",
      "\u001b[?25l  Downloading https://files.pythonhosted.org/packages/bf/1f/6ccb2f678e6d147cc6eec00a5b8615f9fa8d8a8271cc98a2ffa0343c9063/multidict-5.1.0-cp37-cp37m-macosx_10_14_x86_64.whl (49kB)\n",
      "\u001b[K     |████████████████████████████████| 51kB 158kB/s eta 0:00:011\n",
      "\u001b[?25hRequirement already satisfied: pillow>=6.2.0 in /Users/ganeshnarayanan/opt/anaconda3/lib/python3.7/site-packages (from matplotlib>=3.1->dataframe_image) (6.2.0)\n",
      "Requirement already satisfied: pyparsing!=2.0.4,!=2.1.2,!=2.1.6,>=2.0.3 in /Users/ganeshnarayanan/opt/anaconda3/lib/python3.7/site-packages (from matplotlib>=3.1->dataframe_image) (2.4.2)\n",
      "Requirement already satisfied: cycler>=0.10 in /Users/ganeshnarayanan/opt/anaconda3/lib/python3.7/site-packages (from matplotlib>=3.1->dataframe_image) (0.10.0)\n",
      "Requirement already satisfied: certifi>=2020.06.20 in /Users/ganeshnarayanan/opt/anaconda3/lib/python3.7/site-packages (from matplotlib>=3.1->dataframe_image) (2020.11.8)\n",
      "Requirement already satisfied: kiwisolver>=1.0.1 in /Users/ganeshnarayanan/opt/anaconda3/lib/python3.7/site-packages (from matplotlib>=3.1->dataframe_image) (1.1.0)\n",
      "Requirement already satisfied: urllib3!=1.25.0,!=1.25.1,<1.26,>=1.21.1 in /Users/ganeshnarayanan/opt/anaconda3/lib/python3.7/site-packages (from requests->dataframe_image) (1.24.2)\n",
      "Requirement already satisfied: idna<2.9,>=2.5 in /Users/ganeshnarayanan/opt/anaconda3/lib/python3.7/site-packages (from requests->dataframe_image) (2.8)\n",
      "Requirement already satisfied: defusedxml in /Users/ganeshnarayanan/opt/anaconda3/lib/python3.7/site-packages (from nbconvert>=5->dataframe_image) (0.6.0)\n",
      "Requirement already satisfied: pygments in /Users/ganeshnarayanan/opt/anaconda3/lib/python3.7/site-packages (from nbconvert>=5->dataframe_image) (2.4.2)\n",
      "Requirement already satisfied: mistune<2,>=0.8.1 in /Users/ganeshnarayanan/opt/anaconda3/lib/python3.7/site-packages (from nbconvert>=5->dataframe_image) (0.8.4)\n",
      "Requirement already satisfied: jinja2>=2.4 in /Users/ganeshnarayanan/opt/anaconda3/lib/python3.7/site-packages (from nbconvert>=5->dataframe_image) (2.11.2)\n",
      "Requirement already satisfied: jupyter-core in /Users/ganeshnarayanan/opt/anaconda3/lib/python3.7/site-packages (from nbconvert>=5->dataframe_image) (4.5.0)\n",
      "Requirement already satisfied: bleach in /Users/ganeshnarayanan/opt/anaconda3/lib/python3.7/site-packages (from nbconvert>=5->dataframe_image) (3.1.0)\n",
      "Requirement already satisfied: pandocfilters>=1.4.1 in /Users/ganeshnarayanan/opt/anaconda3/lib/python3.7/site-packages (from nbconvert>=5->dataframe_image) (1.4.2)\n",
      "Requirement already satisfied: traitlets>=4.2 in /Users/ganeshnarayanan/opt/anaconda3/lib/python3.7/site-packages (from nbconvert>=5->dataframe_image) (4.3.3)\n",
      "Requirement already satisfied: nbformat>=4.4 in /Users/ganeshnarayanan/opt/anaconda3/lib/python3.7/site-packages (from nbconvert>=5->dataframe_image) (4.4.0)\n",
      "Requirement already satisfied: entrypoints>=0.2.2 in /Users/ganeshnarayanan/opt/anaconda3/lib/python3.7/site-packages (from nbconvert>=5->dataframe_image) (0.3)\n",
      "Requirement already satisfied: testpath in /Users/ganeshnarayanan/opt/anaconda3/lib/python3.7/site-packages (from nbconvert>=5->dataframe_image) (0.4.2)\n",
      "Requirement already satisfied: six>=1.5 in /Users/ganeshnarayanan/opt/anaconda3/lib/python3.7/site-packages (from python-dateutil>=2.7.3->pandas>=0.24->dataframe_image) (1.12.0)\n",
      "Requirement already satisfied: setuptools in /Users/ganeshnarayanan/opt/anaconda3/lib/python3.7/site-packages (from kiwisolver>=1.0.1->matplotlib>=3.1->dataframe_image) (41.4.0)\n",
      "Requirement already satisfied: MarkupSafe>=0.23 in /Users/ganeshnarayanan/opt/anaconda3/lib/python3.7/site-packages (from jinja2>=2.4->nbconvert>=5->dataframe_image) (1.1.1)\n",
      "Requirement already satisfied: webencodings in /Users/ganeshnarayanan/opt/anaconda3/lib/python3.7/site-packages (from bleach->nbconvert>=5->dataframe_image) (0.5.1)\n",
      "Requirement already satisfied: decorator in /Users/ganeshnarayanan/opt/anaconda3/lib/python3.7/site-packages (from traitlets>=4.2->nbconvert>=5->dataframe_image) (4.4.0)\n",
      "Requirement already satisfied: ipython-genutils in /Users/ganeshnarayanan/opt/anaconda3/lib/python3.7/site-packages (from traitlets>=4.2->nbconvert>=5->dataframe_image) (0.2.0)\n",
      "Requirement already satisfied: jsonschema!=2.5.0,>=2.4 in /Users/ganeshnarayanan/opt/anaconda3/lib/python3.7/site-packages (from nbformat>=4.4->nbconvert>=5->dataframe_image) (3.0.2)\n",
      "Requirement already satisfied: pyrsistent>=0.14.0 in /Users/ganeshnarayanan/opt/anaconda3/lib/python3.7/site-packages (from jsonschema!=2.5.0,>=2.4->nbformat>=4.4->nbconvert>=5->dataframe_image) (0.15.4)\n",
      "Installing collected packages: multidict, typing-extensions, yarl, async-timeout, aiohttp, dataframe-image\n",
      "Successfully installed aiohttp-3.7.3 async-timeout-3.0.1 dataframe-image-0.1.1 multidict-5.1.0 typing-extensions-3.7.4.3 yarl-1.6.3\n"
     ]
    }
   ],
   "source": [
    "!pip install dataframe_image\n",
    "\n"
   ]
  },
  {
   "cell_type": "code",
   "execution_count": 233,
   "metadata": {},
   "outputs": [
    {
     "data": {
      "image/png": "[encoded data removed]",
      "text/plain": [
       "<Figure size 1440x576 with 1 Axes>"
      ]
     },
     "metadata": {
      "needs_background": "light"
     },
     "output_type": "display_data"
    }
   ],
   "source": [
    "Data_Metric_Report_1 = Data_Metric_Report.plot(kind='bar', \n",
    "               figsize=(20, 8),\n",
    "               color = ['#5cb85c','#5bc0de','#d9534f'],\n",
    "               linewidth =1,fontsize=14)\n",
    "Data_Metric_Report_1.set_title('Comparison of Metric Scores by Supervised ML Algorithms',\n",
    "               fontsize=20)\n",
    "\n",
    "Data_Metric_Report_1.set_facecolor('white')\n",
    "\n",
    "Data_Metric_Report_1.legend(fontsize=14,facecolor = 'white',loc='best') \n",
    "\n",
    "Data_Metric_Report_1.get_yaxis().set_visible(True)\n",
    "Data_Metric_Report_1.set_ylabel('Metric Scores', fontsize=18)\n",
    "Data_Metric_Report_1.set_xlabel('Algorithm', fontsize=18)\n",
    "plt.show()\n",
    "#Data_Metric_Report_1.savefig('path/to/Figure-X:Metric Scores Obtained From Various ML Algorithms of Loan Datasets .jpeg')"
   ]
  },
  {
   "cell_type": "code",
   "execution_count": null,
   "metadata": {},
   "outputs": [],
   "source": []
  },
  {
   "cell_type": "markdown",
   "metadata": {},
   "source": [
    "# Conclusion"
   ]
  },
  {
   "cell_type": "code",
   "execution_count": null,
   "metadata": {},
   "outputs": [],
   "source": []
  }
 ],
 "metadata": {
  "kernelspec": {
   "display_name": "Python 3",
   "language": "python",
   "name": "python3"
  },
  "language_info": {
   "codemirror_mode": {
    "name": "ipython",
    "version": 3
   },
   "file_extension": ".py",
   "mimetype": "text/x-python",
   "name": "python",
   "nbconvert_exporter": "python",
   "pygments_lexer": "ipython3",
   "version": "3.7.4"
  }
 },
 "nbformat": 4,
 "nbformat_minor": 4
}
